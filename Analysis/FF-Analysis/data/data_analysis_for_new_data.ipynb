{
 "cells": [
  {
   "cell_type": "markdown",
   "metadata": {},
   "source": [
    "# DTAT PROCESS FOR NEW DATA\n"
   ]
  },
  {
   "cell_type": "code",
   "execution_count": 1,
   "metadata": {
    "collapsed": false
   },
   "outputs": [
    {
     "name": "stdout",
     "output_type": "stream",
     "text": [
      "['F:\\\\data\\\\newData\\\\40012xkir2.1-1.txt', 'F:\\\\data\\\\newData\\\\40012xkir2.1-10.txt', 'F:\\\\data\\\\newData\\\\40012xkir2.1-11.txt', 'F:\\\\data\\\\newData\\\\40012xkir2.1-12.txt', 'F:\\\\data\\\\newData\\\\40012xkir2.1-13.txt', 'F:\\\\data\\\\newData\\\\40012xkir2.1-14.txt', 'F:\\\\data\\\\newData\\\\40012xkir2.1-15.txt', 'F:\\\\data\\\\newData\\\\40012xkir2.1-16.txt', 'F:\\\\data\\\\newData\\\\40012xkir2.1-17.txt', 'F:\\\\data\\\\newData\\\\40012xkir2.1-18.txt', 'F:\\\\data\\\\newData\\\\40012xkir2.1-19.txt', 'F:\\\\data\\\\newData\\\\40012xkir2.1-2.txt', 'F:\\\\data\\\\newData\\\\40012xkir2.1-20.txt', 'F:\\\\data\\\\newData\\\\40012xkir2.1-21.txt', 'F:\\\\data\\\\newData\\\\40012xkir2.1-3.txt', 'F:\\\\data\\\\newData\\\\40012xkir2.1-4.txt', 'F:\\\\data\\\\newData\\\\40012xkir2.1-5.txt', 'F:\\\\data\\\\newData\\\\40012xkir2.1-6.txt', 'F:\\\\data\\\\newData\\\\40012xkir2.1-7.txt', 'F:\\\\data\\\\newData\\\\40012xkir2.1-8.txt', 'F:\\\\data\\\\newData\\\\40012xkir2.1-9.txt']\n"
     ]
    }
   ],
   "source": [
    "import os\n",
    "from os.path import join\n",
    "AllFile = []\n",
    "dest = \"F:\\\\data\\\\newData\"\n",
    "for root, dirs, files in os.walk( dest ):\n",
    "    for OneFileName in files :\n",
    "        OneFullFileName = join( root, OneFileName )\n",
    "        AllFile.append(OneFullFileName)\n",
    "    print(AllFile)"
   ]
  },
  {
   "cell_type": "code",
   "execution_count": 2,
   "metadata": {
    "collapsed": true
   },
   "outputs": [],
   "source": [
    "# firstData = []\n",
    "secondData = []\n",
    "# for i in AllFile:\n",
    "#     if(len(i)==26):\n",
    "#         firstData.append(i)\n",
    "#     else:\n",
    "#         secondData.append(i)\n",
    "for i in AllFile:\n",
    "    secondData.append(i)"
   ]
  },
  {
   "cell_type": "code",
   "execution_count": 3,
   "metadata": {
    "collapsed": false
   },
   "outputs": [],
   "source": [
    "# firstData"
   ]
  },
  {
   "cell_type": "code",
   "execution_count": 4,
   "metadata": {
    "collapsed": false
   },
   "outputs": [
    {
     "data": {
      "text/plain": [
       "['F:\\\\data\\\\newData\\\\40012xkir2.1-1.txt',\n",
       " 'F:\\\\data\\\\newData\\\\40012xkir2.1-10.txt',\n",
       " 'F:\\\\data\\\\newData\\\\40012xkir2.1-11.txt',\n",
       " 'F:\\\\data\\\\newData\\\\40012xkir2.1-12.txt',\n",
       " 'F:\\\\data\\\\newData\\\\40012xkir2.1-13.txt',\n",
       " 'F:\\\\data\\\\newData\\\\40012xkir2.1-14.txt',\n",
       " 'F:\\\\data\\\\newData\\\\40012xkir2.1-15.txt',\n",
       " 'F:\\\\data\\\\newData\\\\40012xkir2.1-16.txt',\n",
       " 'F:\\\\data\\\\newData\\\\40012xkir2.1-17.txt',\n",
       " 'F:\\\\data\\\\newData\\\\40012xkir2.1-18.txt',\n",
       " 'F:\\\\data\\\\newData\\\\40012xkir2.1-19.txt',\n",
       " 'F:\\\\data\\\\newData\\\\40012xkir2.1-2.txt',\n",
       " 'F:\\\\data\\\\newData\\\\40012xkir2.1-20.txt',\n",
       " 'F:\\\\data\\\\newData\\\\40012xkir2.1-21.txt',\n",
       " 'F:\\\\data\\\\newData\\\\40012xkir2.1-3.txt',\n",
       " 'F:\\\\data\\\\newData\\\\40012xkir2.1-4.txt',\n",
       " 'F:\\\\data\\\\newData\\\\40012xkir2.1-5.txt',\n",
       " 'F:\\\\data\\\\newData\\\\40012xkir2.1-6.txt',\n",
       " 'F:\\\\data\\\\newData\\\\40012xkir2.1-7.txt',\n",
       " 'F:\\\\data\\\\newData\\\\40012xkir2.1-8.txt',\n",
       " 'F:\\\\data\\\\newData\\\\40012xkir2.1-9.txt']"
      ]
     },
     "execution_count": 4,
     "metadata": {},
     "output_type": "execute_result"
    }
   ],
   "source": [
    "secondData"
   ]
  },
  {
   "cell_type": "code",
   "execution_count": 5,
   "metadata": {
    "collapsed": true
   },
   "outputs": [],
   "source": [
    "# def read_dta(dta):\n",
    "#     \"\"\"read the dta file and return numerical array\"\"\"\n",
    "#     with open(dta) as f:\n",
    "#         newData = []\n",
    "#         data  = f.readlines()\n",
    "#         for i in data[6:]:\n",
    "#               newData.append(float(i[0:6]))\n",
    "#         return newData"
   ]
  },
  {
   "cell_type": "code",
   "execution_count": 6,
   "metadata": {
    "collapsed": false
   },
   "outputs": [],
   "source": [
    "# datatest = read_dta(secondData[1])"
   ]
  },
  {
   "cell_type": "code",
   "execution_count": 7,
   "metadata": {
    "collapsed": true
   },
   "outputs": [],
   "source": [
    "# def getPIValue(data):\n",
    "#     PIValue = []\n",
    "#     for j in range(9):\n",
    "#         upT = 0\n",
    "#         downT = 0\n",
    "#         for i in range(0+j*1200,1200+j*1200):\n",
    "#             if (data[i]>1488 and data[i]<2000) or (data[i]>2516 or data[i] <976):\n",
    "#                 upT+=1\n",
    "#             else:\n",
    "#                 downT+=1\n",
    "#         print(upT)\n",
    "#         print(downT)\n",
    "#         print(upT+downT)\n",
    "#         PIValue.append((upT-downT)/(upT+downT))\n",
    "#     return PIValue"
   ]
  },
  {
   "cell_type": "code",
   "execution_count": 8,
   "metadata": {
    "collapsed": false
   },
   "outputs": [],
   "source": [
    "# firstDataPIValue = []\n",
    "# for i in firstData:\n",
    "#     data = read_dta(i)\n",
    "#     PI = getPIValue(data)\n",
    "#     firstDataPIValue.append(PI)\n",
    "# print(firstDataPIValue)"
   ]
  },
  {
   "cell_type": "code",
   "execution_count": 9,
   "metadata": {
    "collapsed": false
   },
   "outputs": [],
   "source": [
    "# for i in range(9):\n",
    "#     firstDataPIValue[4][i] = -firstDataPIValue[4][i]\n",
    "    \n",
    "# for i in firstDataPIValue:\n",
    "#     print(i)"
   ]
  },
  {
   "cell_type": "code",
   "execution_count": 10,
   "metadata": {
    "collapsed": false
   },
   "outputs": [
    {
     "name": "stdout",
     "output_type": "stream",
     "text": [
      "[[0.05, -0.16, 0.33, 0.76, -0.29, 0.13, 0.79, -0.2, -0.54], [-0.14, -0.09, 0.38, 0.11, 0.21, 0.53, 0.11, -0.07, 0.07], [-0.12, -0.22, 0.32, 0.14, -0.18, 0.29, 0.27, -0.01, -0.44], [0.46, 0.52, 0.57, 0.26, -0.06, -0.28, 0.07, 0.08, -0.27], [-0.02, 0.07, 0.28, 0.28, 0.26, -0.15, 0.17, -0.31, -0.63], [0.16, 0.09, 0.03, 0.04, 0.41, 0.35, 0.05, 0.04, 0.0], [0.02, 0.35, 0.33, 0.06, 0.03, 0.21, 0.79, 0.15, 0.3], [-0.09, 0.02, 0.74, 0.51, 0.12, 0.58, 0.28, 0.0, 0.03], [-0.01, -0.4, 0.06, 0.51, -0.03, 0.1, 0.43, 0.11, 0.0], [-0.05, 0.05, -0.09, -0.29, 0.09, -0.23, 0.44, 0.09, 0.12], [0.73, 0.44, 0.28, 0.42, 0.11, 0.06, 0.49, 0.07, -0.1], [-0.57, -0.21, -0.53, -0.38, -0.09, -0.42, -0.48, -0.23, 0.14], [0.24, -0.09, 0.24, 0.27, 0.0, -0.04, -0.27, 0.32, 0.35], [-0.38, -0.07, -0.02, 0.47, -0.01, 0.17, 0.64, -0.12, 0.04], [0.67, -0.04, 0.44, 0.22, 0.01, 0.35, 0.42, 0.26, 0.11], [0.25, -0.01, 0.8, 0.62, 0.2, 0.07, 0.38, 0.02, 0.09], [-0.01, -0.12, 0.35, -0.09, -0.19, -0.02, -0.31, -0.72, -0.33], [0.07, 0.38, -0.06, -0.04, 0.15, -0.2, -0.27, 0.16, -0.12], [-0.06, -0.24, 0.54, 0.67, 0.0, -0.23, 0.7, -0.13, -0.31], [-0.66, -0.24, 0.21, 0.25, -0.14, 0.15, -0.09, 0.05, 0.0], [-0.11, 0.29, 0.15, 0.79, -0.26, 0.64, 0.12, 0.01, -0.04]]\n"
     ]
    }
   ],
   "source": [
    "secondPIValue=[]\n",
    "for i in secondData:\n",
    "    temp = []\n",
    "    with open(i) as f:\n",
    "        newData = []\n",
    "        data  = f.readlines()\n",
    "        for j in data[5][13:-2].split(\",\"):\n",
    "            temp.append(float(j))\n",
    "    secondPIValue.append(temp)\n",
    "    \n",
    "print(secondPIValue)\n",
    "            \n"
   ]
  },
  {
   "cell_type": "code",
   "execution_count": null,
   "metadata": {
    "collapsed": true
   },
   "outputs": [],
   "source": []
  },
  {
   "cell_type": "code",
   "execution_count": 11,
   "metadata": {
    "collapsed": false
   },
   "outputs": [],
   "source": [
    "# firstDataPIValue"
   ]
  },
  {
   "cell_type": "code",
   "execution_count": 12,
   "metadata": {
    "collapsed": true
   },
   "outputs": [],
   "source": [
    "firstDataPIValue=[]\n",
    "for i in secondPIValue:\n",
    "    firstDataPIValue.append(i)\n"
   ]
  },
  {
   "cell_type": "code",
   "execution_count": 13,
   "metadata": {
    "collapsed": false
   },
   "outputs": [
    {
     "data": {
      "text/plain": [
       "[[0.05, -0.16, 0.33, 0.76, -0.29, 0.13, 0.79, -0.2, -0.54],\n",
       " [-0.14, -0.09, 0.38, 0.11, 0.21, 0.53, 0.11, -0.07, 0.07],\n",
       " [-0.12, -0.22, 0.32, 0.14, -0.18, 0.29, 0.27, -0.01, -0.44],\n",
       " [0.46, 0.52, 0.57, 0.26, -0.06, -0.28, 0.07, 0.08, -0.27],\n",
       " [-0.02, 0.07, 0.28, 0.28, 0.26, -0.15, 0.17, -0.31, -0.63],\n",
       " [0.16, 0.09, 0.03, 0.04, 0.41, 0.35, 0.05, 0.04, 0.0],\n",
       " [0.02, 0.35, 0.33, 0.06, 0.03, 0.21, 0.79, 0.15, 0.3],\n",
       " [-0.09, 0.02, 0.74, 0.51, 0.12, 0.58, 0.28, 0.0, 0.03],\n",
       " [-0.01, -0.4, 0.06, 0.51, -0.03, 0.1, 0.43, 0.11, 0.0],\n",
       " [-0.05, 0.05, -0.09, -0.29, 0.09, -0.23, 0.44, 0.09, 0.12],\n",
       " [0.73, 0.44, 0.28, 0.42, 0.11, 0.06, 0.49, 0.07, -0.1],\n",
       " [-0.57, -0.21, -0.53, -0.38, -0.09, -0.42, -0.48, -0.23, 0.14],\n",
       " [0.24, -0.09, 0.24, 0.27, 0.0, -0.04, -0.27, 0.32, 0.35],\n",
       " [-0.38, -0.07, -0.02, 0.47, -0.01, 0.17, 0.64, -0.12, 0.04],\n",
       " [0.67, -0.04, 0.44, 0.22, 0.01, 0.35, 0.42, 0.26, 0.11],\n",
       " [0.25, -0.01, 0.8, 0.62, 0.2, 0.07, 0.38, 0.02, 0.09],\n",
       " [-0.01, -0.12, 0.35, -0.09, -0.19, -0.02, -0.31, -0.72, -0.33],\n",
       " [0.07, 0.38, -0.06, -0.04, 0.15, -0.2, -0.27, 0.16, -0.12],\n",
       " [-0.06, -0.24, 0.54, 0.67, 0.0, -0.23, 0.7, -0.13, -0.31],\n",
       " [-0.66, -0.24, 0.21, 0.25, -0.14, 0.15, -0.09, 0.05, 0.0],\n",
       " [-0.11, 0.29, 0.15, 0.79, -0.26, 0.64, 0.12, 0.01, -0.04]]"
      ]
     },
     "execution_count": 13,
     "metadata": {},
     "output_type": "execute_result"
    }
   ],
   "source": [
    "firstDataPIValue"
   ]
  },
  {
   "cell_type": "code",
   "execution_count": 14,
   "metadata": {
    "collapsed": false
   },
   "outputs": [
    {
     "name": "stdout",
     "output_type": "stream",
     "text": [
      "[0.05, -0.16, 0.33, 0.76, -0.29, 0.13, 0.79, -0.2, -0.54]\n",
      "[-0.14, -0.09, 0.38, 0.11, 0.21, 0.53, 0.11, -0.07, 0.07]\n",
      "[-0.12, -0.22, 0.32, 0.14, -0.18, 0.29, 0.27, -0.01, -0.44]\n",
      "[0.46, 0.52, 0.57, 0.26, -0.06, -0.28, 0.07, 0.08, -0.27]\n",
      "[-0.02, 0.07, 0.28, 0.28, 0.26, -0.15, 0.17, -0.31, -0.63]\n",
      "[0.16, 0.09, 0.03, 0.04, 0.41, 0.35, 0.05, 0.04, 0.0]\n",
      "[0.02, 0.35, 0.33, 0.06, 0.03, 0.21, 0.79, 0.15, 0.3]\n",
      "[-0.09, 0.02, 0.74, 0.51, 0.12, 0.58, 0.28, 0.0, 0.03]\n",
      "[-0.01, -0.4, 0.06, 0.51, -0.03, 0.1, 0.43, 0.11, 0.0]\n",
      "[-0.05, 0.05, -0.09, -0.29, 0.09, -0.23, 0.44, 0.09, 0.12]\n",
      "[0.73, 0.44, 0.28, 0.42, 0.11, 0.06, 0.49, 0.07, -0.1]\n",
      "[-0.57, -0.21, -0.53, -0.38, -0.09, -0.42, -0.48, -0.23, 0.14]\n",
      "[0.24, -0.09, 0.24, 0.27, 0.0, -0.04, -0.27, 0.32, 0.35]\n",
      "[-0.38, -0.07, -0.02, 0.47, -0.01, 0.17, 0.64, -0.12, 0.04]\n",
      "[0.67, -0.04, 0.44, 0.22, 0.01, 0.35, 0.42, 0.26, 0.11]\n",
      "[0.25, -0.01, 0.8, 0.62, 0.2, 0.07, 0.38, 0.02, 0.09]\n",
      "[-0.01, -0.12, 0.35, -0.09, -0.19, -0.02, -0.31, -0.72, -0.33]\n",
      "[0.07, 0.38, -0.06, -0.04, 0.15, -0.2, -0.27, 0.16, -0.12]\n",
      "[-0.06, -0.24, 0.54, 0.67, 0.0, -0.23, 0.7, -0.13, -0.31]\n",
      "[-0.66, -0.24, 0.21, 0.25, -0.14, 0.15, -0.09, 0.05, 0.0]\n",
      "[-0.11, 0.29, 0.15, 0.79, -0.26, 0.64, 0.12, 0.01, -0.04]\n"
     ]
    }
   ],
   "source": [
    "for i in firstDataPIValue:\n",
    "    print(i)"
   ]
  },
  {
   "cell_type": "code",
   "execution_count": 15,
   "metadata": {
    "collapsed": false
   },
   "outputs": [],
   "source": [
    "# for i in range(9):\n",
    "#     firstDataPIValue[18][i] = -firstDataPIValue[18][i]\n",
    "    \n",
    "    "
   ]
  },
  {
   "cell_type": "code",
   "execution_count": null,
   "metadata": {
    "collapsed": true
   },
   "outputs": [],
   "source": []
  },
  {
   "cell_type": "code",
   "execution_count": 16,
   "metadata": {
    "collapsed": false
   },
   "outputs": [
    {
     "data": {
      "text/html": [
       "<div>\n",
       "<table border=\"1\" class=\"dataframe\">\n",
       "  <thead>\n",
       "    <tr style=\"text-align: right;\">\n",
       "      <th></th>\n",
       "      <th>0</th>\n",
       "      <th>1</th>\n",
       "      <th>2</th>\n",
       "      <th>3</th>\n",
       "      <th>4</th>\n",
       "      <th>5</th>\n",
       "      <th>6</th>\n",
       "      <th>7</th>\n",
       "      <th>8</th>\n",
       "      <th>9</th>\n",
       "      <th>...</th>\n",
       "      <th>11</th>\n",
       "      <th>12</th>\n",
       "      <th>13</th>\n",
       "      <th>14</th>\n",
       "      <th>15</th>\n",
       "      <th>16</th>\n",
       "      <th>17</th>\n",
       "      <th>18</th>\n",
       "      <th>19</th>\n",
       "      <th>20</th>\n",
       "    </tr>\n",
       "  </thead>\n",
       "  <tbody>\n",
       "    <tr>\n",
       "      <th>0</th>\n",
       "      <td>0.05</td>\n",
       "      <td>-0.14</td>\n",
       "      <td>-0.12</td>\n",
       "      <td>0.46</td>\n",
       "      <td>-0.02</td>\n",
       "      <td>0.16</td>\n",
       "      <td>0.02</td>\n",
       "      <td>-0.09</td>\n",
       "      <td>-0.01</td>\n",
       "      <td>-0.05</td>\n",
       "      <td>...</td>\n",
       "      <td>-0.57</td>\n",
       "      <td>0.24</td>\n",
       "      <td>-0.38</td>\n",
       "      <td>0.67</td>\n",
       "      <td>0.25</td>\n",
       "      <td>-0.01</td>\n",
       "      <td>0.07</td>\n",
       "      <td>-0.06</td>\n",
       "      <td>-0.66</td>\n",
       "      <td>-0.11</td>\n",
       "    </tr>\n",
       "    <tr>\n",
       "      <th>1</th>\n",
       "      <td>-0.16</td>\n",
       "      <td>-0.09</td>\n",
       "      <td>-0.22</td>\n",
       "      <td>0.52</td>\n",
       "      <td>0.07</td>\n",
       "      <td>0.09</td>\n",
       "      <td>0.35</td>\n",
       "      <td>0.02</td>\n",
       "      <td>-0.40</td>\n",
       "      <td>0.05</td>\n",
       "      <td>...</td>\n",
       "      <td>-0.21</td>\n",
       "      <td>-0.09</td>\n",
       "      <td>-0.07</td>\n",
       "      <td>-0.04</td>\n",
       "      <td>-0.01</td>\n",
       "      <td>-0.12</td>\n",
       "      <td>0.38</td>\n",
       "      <td>-0.24</td>\n",
       "      <td>-0.24</td>\n",
       "      <td>0.29</td>\n",
       "    </tr>\n",
       "    <tr>\n",
       "      <th>2</th>\n",
       "      <td>0.33</td>\n",
       "      <td>0.38</td>\n",
       "      <td>0.32</td>\n",
       "      <td>0.57</td>\n",
       "      <td>0.28</td>\n",
       "      <td>0.03</td>\n",
       "      <td>0.33</td>\n",
       "      <td>0.74</td>\n",
       "      <td>0.06</td>\n",
       "      <td>-0.09</td>\n",
       "      <td>...</td>\n",
       "      <td>-0.53</td>\n",
       "      <td>0.24</td>\n",
       "      <td>-0.02</td>\n",
       "      <td>0.44</td>\n",
       "      <td>0.80</td>\n",
       "      <td>0.35</td>\n",
       "      <td>-0.06</td>\n",
       "      <td>0.54</td>\n",
       "      <td>0.21</td>\n",
       "      <td>0.15</td>\n",
       "    </tr>\n",
       "    <tr>\n",
       "      <th>3</th>\n",
       "      <td>0.76</td>\n",
       "      <td>0.11</td>\n",
       "      <td>0.14</td>\n",
       "      <td>0.26</td>\n",
       "      <td>0.28</td>\n",
       "      <td>0.04</td>\n",
       "      <td>0.06</td>\n",
       "      <td>0.51</td>\n",
       "      <td>0.51</td>\n",
       "      <td>-0.29</td>\n",
       "      <td>...</td>\n",
       "      <td>-0.38</td>\n",
       "      <td>0.27</td>\n",
       "      <td>0.47</td>\n",
       "      <td>0.22</td>\n",
       "      <td>0.62</td>\n",
       "      <td>-0.09</td>\n",
       "      <td>-0.04</td>\n",
       "      <td>0.67</td>\n",
       "      <td>0.25</td>\n",
       "      <td>0.79</td>\n",
       "    </tr>\n",
       "    <tr>\n",
       "      <th>4</th>\n",
       "      <td>-0.29</td>\n",
       "      <td>0.21</td>\n",
       "      <td>-0.18</td>\n",
       "      <td>-0.06</td>\n",
       "      <td>0.26</td>\n",
       "      <td>0.41</td>\n",
       "      <td>0.03</td>\n",
       "      <td>0.12</td>\n",
       "      <td>-0.03</td>\n",
       "      <td>0.09</td>\n",
       "      <td>...</td>\n",
       "      <td>-0.09</td>\n",
       "      <td>0.00</td>\n",
       "      <td>-0.01</td>\n",
       "      <td>0.01</td>\n",
       "      <td>0.20</td>\n",
       "      <td>-0.19</td>\n",
       "      <td>0.15</td>\n",
       "      <td>0.00</td>\n",
       "      <td>-0.14</td>\n",
       "      <td>-0.26</td>\n",
       "    </tr>\n",
       "    <tr>\n",
       "      <th>5</th>\n",
       "      <td>0.13</td>\n",
       "      <td>0.53</td>\n",
       "      <td>0.29</td>\n",
       "      <td>-0.28</td>\n",
       "      <td>-0.15</td>\n",
       "      <td>0.35</td>\n",
       "      <td>0.21</td>\n",
       "      <td>0.58</td>\n",
       "      <td>0.10</td>\n",
       "      <td>-0.23</td>\n",
       "      <td>...</td>\n",
       "      <td>-0.42</td>\n",
       "      <td>-0.04</td>\n",
       "      <td>0.17</td>\n",
       "      <td>0.35</td>\n",
       "      <td>0.07</td>\n",
       "      <td>-0.02</td>\n",
       "      <td>-0.20</td>\n",
       "      <td>-0.23</td>\n",
       "      <td>0.15</td>\n",
       "      <td>0.64</td>\n",
       "    </tr>\n",
       "    <tr>\n",
       "      <th>6</th>\n",
       "      <td>0.79</td>\n",
       "      <td>0.11</td>\n",
       "      <td>0.27</td>\n",
       "      <td>0.07</td>\n",
       "      <td>0.17</td>\n",
       "      <td>0.05</td>\n",
       "      <td>0.79</td>\n",
       "      <td>0.28</td>\n",
       "      <td>0.43</td>\n",
       "      <td>0.44</td>\n",
       "      <td>...</td>\n",
       "      <td>-0.48</td>\n",
       "      <td>-0.27</td>\n",
       "      <td>0.64</td>\n",
       "      <td>0.42</td>\n",
       "      <td>0.38</td>\n",
       "      <td>-0.31</td>\n",
       "      <td>-0.27</td>\n",
       "      <td>0.70</td>\n",
       "      <td>-0.09</td>\n",
       "      <td>0.12</td>\n",
       "    </tr>\n",
       "    <tr>\n",
       "      <th>7</th>\n",
       "      <td>-0.20</td>\n",
       "      <td>-0.07</td>\n",
       "      <td>-0.01</td>\n",
       "      <td>0.08</td>\n",
       "      <td>-0.31</td>\n",
       "      <td>0.04</td>\n",
       "      <td>0.15</td>\n",
       "      <td>0.00</td>\n",
       "      <td>0.11</td>\n",
       "      <td>0.09</td>\n",
       "      <td>...</td>\n",
       "      <td>-0.23</td>\n",
       "      <td>0.32</td>\n",
       "      <td>-0.12</td>\n",
       "      <td>0.26</td>\n",
       "      <td>0.02</td>\n",
       "      <td>-0.72</td>\n",
       "      <td>0.16</td>\n",
       "      <td>-0.13</td>\n",
       "      <td>0.05</td>\n",
       "      <td>0.01</td>\n",
       "    </tr>\n",
       "    <tr>\n",
       "      <th>8</th>\n",
       "      <td>-0.54</td>\n",
       "      <td>0.07</td>\n",
       "      <td>-0.44</td>\n",
       "      <td>-0.27</td>\n",
       "      <td>-0.63</td>\n",
       "      <td>0.00</td>\n",
       "      <td>0.30</td>\n",
       "      <td>0.03</td>\n",
       "      <td>0.00</td>\n",
       "      <td>0.12</td>\n",
       "      <td>...</td>\n",
       "      <td>0.14</td>\n",
       "      <td>0.35</td>\n",
       "      <td>0.04</td>\n",
       "      <td>0.11</td>\n",
       "      <td>0.09</td>\n",
       "      <td>-0.33</td>\n",
       "      <td>-0.12</td>\n",
       "      <td>-0.31</td>\n",
       "      <td>0.00</td>\n",
       "      <td>-0.04</td>\n",
       "    </tr>\n",
       "  </tbody>\n",
       "</table>\n",
       "<p>9 rows × 21 columns</p>\n",
       "</div>"
      ],
      "text/plain": [
       "     0     1     2     3     4     5     6     7     8     9   ...     11  \\\n",
       "0  0.05 -0.14 -0.12  0.46 -0.02  0.16  0.02 -0.09 -0.01 -0.05  ...  -0.57   \n",
       "1 -0.16 -0.09 -0.22  0.52  0.07  0.09  0.35  0.02 -0.40  0.05  ...  -0.21   \n",
       "2  0.33  0.38  0.32  0.57  0.28  0.03  0.33  0.74  0.06 -0.09  ...  -0.53   \n",
       "3  0.76  0.11  0.14  0.26  0.28  0.04  0.06  0.51  0.51 -0.29  ...  -0.38   \n",
       "4 -0.29  0.21 -0.18 -0.06  0.26  0.41  0.03  0.12 -0.03  0.09  ...  -0.09   \n",
       "5  0.13  0.53  0.29 -0.28 -0.15  0.35  0.21  0.58  0.10 -0.23  ...  -0.42   \n",
       "6  0.79  0.11  0.27  0.07  0.17  0.05  0.79  0.28  0.43  0.44  ...  -0.48   \n",
       "7 -0.20 -0.07 -0.01  0.08 -0.31  0.04  0.15  0.00  0.11  0.09  ...  -0.23   \n",
       "8 -0.54  0.07 -0.44 -0.27 -0.63  0.00  0.30  0.03  0.00  0.12  ...   0.14   \n",
       "\n",
       "     12    13    14    15    16    17    18    19    20  \n",
       "0  0.24 -0.38  0.67  0.25 -0.01  0.07 -0.06 -0.66 -0.11  \n",
       "1 -0.09 -0.07 -0.04 -0.01 -0.12  0.38 -0.24 -0.24  0.29  \n",
       "2  0.24 -0.02  0.44  0.80  0.35 -0.06  0.54  0.21  0.15  \n",
       "3  0.27  0.47  0.22  0.62 -0.09 -0.04  0.67  0.25  0.79  \n",
       "4  0.00 -0.01  0.01  0.20 -0.19  0.15  0.00 -0.14 -0.26  \n",
       "5 -0.04  0.17  0.35  0.07 -0.02 -0.20 -0.23  0.15  0.64  \n",
       "6 -0.27  0.64  0.42  0.38 -0.31 -0.27  0.70 -0.09  0.12  \n",
       "7  0.32 -0.12  0.26  0.02 -0.72  0.16 -0.13  0.05  0.01  \n",
       "8  0.35  0.04  0.11  0.09 -0.33 -0.12 -0.31  0.00 -0.04  \n",
       "\n",
       "[9 rows x 21 columns]"
      ]
     },
     "execution_count": 16,
     "metadata": {},
     "output_type": "execute_result"
    }
   ],
   "source": [
    "import pandas as pd\n",
    "\n",
    "data = {i:firstDataPIValue[i] for i in range(len(firstDataPIValue))}\n",
    "pdData = pd.DataFrame(data)\n",
    "pdData"
   ]
  },
  {
   "cell_type": "code",
   "execution_count": 17,
   "metadata": {
    "collapsed": true
   },
   "outputs": [],
   "source": [
    "s = pdData.T.describe()"
   ]
  },
  {
   "cell_type": "code",
   "execution_count": 18,
   "metadata": {
    "collapsed": false
   },
   "outputs": [
    {
     "data": {
      "text/html": [
       "<div>\n",
       "<table border=\"1\" class=\"dataframe\">\n",
       "  <thead>\n",
       "    <tr style=\"text-align: right;\">\n",
       "      <th></th>\n",
       "      <th>0</th>\n",
       "      <th>1</th>\n",
       "      <th>2</th>\n",
       "      <th>3</th>\n",
       "      <th>4</th>\n",
       "      <th>5</th>\n",
       "      <th>6</th>\n",
       "      <th>7</th>\n",
       "      <th>8</th>\n",
       "    </tr>\n",
       "  </thead>\n",
       "  <tbody>\n",
       "    <tr>\n",
       "      <th>count</th>\n",
       "      <td>21.000000</td>\n",
       "      <td>21.000000</td>\n",
       "      <td>21.000000</td>\n",
       "      <td>21.000000</td>\n",
       "      <td>21.000000</td>\n",
       "      <td>21.000000</td>\n",
       "      <td>21.000000</td>\n",
       "      <td>21.000000</td>\n",
       "      <td>21.000000</td>\n",
       "    </tr>\n",
       "    <tr>\n",
       "      <th>mean</th>\n",
       "      <td>0.020476</td>\n",
       "      <td>0.015238</td>\n",
       "      <td>0.254762</td>\n",
       "      <td>0.265714</td>\n",
       "      <td>0.016190</td>\n",
       "      <td>0.098095</td>\n",
       "      <td>0.225238</td>\n",
       "      <td>-0.020476</td>\n",
       "      <td>-0.072857</td>\n",
       "    </tr>\n",
       "    <tr>\n",
       "      <th>std</th>\n",
       "      <td>0.339404</td>\n",
       "      <td>0.250652</td>\n",
       "      <td>0.300027</td>\n",
       "      <td>0.322080</td>\n",
       "      <td>0.176762</td>\n",
       "      <td>0.292397</td>\n",
       "      <td>0.368532</td>\n",
       "      <td>0.222384</td>\n",
       "      <td>0.259676</td>\n",
       "    </tr>\n",
       "    <tr>\n",
       "      <th>min</th>\n",
       "      <td>-0.660000</td>\n",
       "      <td>-0.400000</td>\n",
       "      <td>-0.530000</td>\n",
       "      <td>-0.380000</td>\n",
       "      <td>-0.290000</td>\n",
       "      <td>-0.420000</td>\n",
       "      <td>-0.480000</td>\n",
       "      <td>-0.720000</td>\n",
       "      <td>-0.630000</td>\n",
       "    </tr>\n",
       "    <tr>\n",
       "      <th>25%</th>\n",
       "      <td>-0.110000</td>\n",
       "      <td>-0.160000</td>\n",
       "      <td>0.060000</td>\n",
       "      <td>0.060000</td>\n",
       "      <td>-0.090000</td>\n",
       "      <td>-0.150000</td>\n",
       "      <td>0.050000</td>\n",
       "      <td>-0.120000</td>\n",
       "      <td>-0.270000</td>\n",
       "    </tr>\n",
       "    <tr>\n",
       "      <th>50%</th>\n",
       "      <td>-0.010000</td>\n",
       "      <td>-0.040000</td>\n",
       "      <td>0.280000</td>\n",
       "      <td>0.260000</td>\n",
       "      <td>0.000000</td>\n",
       "      <td>0.100000</td>\n",
       "      <td>0.270000</td>\n",
       "      <td>0.020000</td>\n",
       "      <td>0.000000</td>\n",
       "    </tr>\n",
       "    <tr>\n",
       "      <th>75%</th>\n",
       "      <td>0.160000</td>\n",
       "      <td>0.090000</td>\n",
       "      <td>0.380000</td>\n",
       "      <td>0.510000</td>\n",
       "      <td>0.120000</td>\n",
       "      <td>0.290000</td>\n",
       "      <td>0.440000</td>\n",
       "      <td>0.090000</td>\n",
       "      <td>0.090000</td>\n",
       "    </tr>\n",
       "    <tr>\n",
       "      <th>max</th>\n",
       "      <td>0.730000</td>\n",
       "      <td>0.520000</td>\n",
       "      <td>0.800000</td>\n",
       "      <td>0.790000</td>\n",
       "      <td>0.410000</td>\n",
       "      <td>0.640000</td>\n",
       "      <td>0.790000</td>\n",
       "      <td>0.320000</td>\n",
       "      <td>0.350000</td>\n",
       "    </tr>\n",
       "  </tbody>\n",
       "</table>\n",
       "</div>"
      ],
      "text/plain": [
       "               0          1          2          3          4          5  \\\n",
       "count  21.000000  21.000000  21.000000  21.000000  21.000000  21.000000   \n",
       "mean    0.020476   0.015238   0.254762   0.265714   0.016190   0.098095   \n",
       "std     0.339404   0.250652   0.300027   0.322080   0.176762   0.292397   \n",
       "min    -0.660000  -0.400000  -0.530000  -0.380000  -0.290000  -0.420000   \n",
       "25%    -0.110000  -0.160000   0.060000   0.060000  -0.090000  -0.150000   \n",
       "50%    -0.010000  -0.040000   0.280000   0.260000   0.000000   0.100000   \n",
       "75%     0.160000   0.090000   0.380000   0.510000   0.120000   0.290000   \n",
       "max     0.730000   0.520000   0.800000   0.790000   0.410000   0.640000   \n",
       "\n",
       "               6          7          8  \n",
       "count  21.000000  21.000000  21.000000  \n",
       "mean    0.225238  -0.020476  -0.072857  \n",
       "std     0.368532   0.222384   0.259676  \n",
       "min    -0.480000  -0.720000  -0.630000  \n",
       "25%     0.050000  -0.120000  -0.270000  \n",
       "50%     0.270000   0.020000   0.000000  \n",
       "75%     0.440000   0.090000   0.090000  \n",
       "max     0.790000   0.320000   0.350000  "
      ]
     },
     "execution_count": 18,
     "metadata": {},
     "output_type": "execute_result"
    }
   ],
   "source": [
    "s"
   ]
  },
  {
   "cell_type": "code",
   "execution_count": 19,
   "metadata": {
    "collapsed": false
   },
   "outputs": [
    {
     "data": {
      "image/png": "[encoded data removed]",
      "text/plain": [
       "<matplotlib.figure.Figure at 0x16425f22128>"
      ]
     },
     "metadata": {},
     "output_type": "display_data"
    }
   ],
   "source": [
    "import numpy as np\n",
    "import matplotlib.pyplot as plt\n",
    "plt.style.use('seaborn-whitegrid') \n",
    "plt.figure(figsize=(10,8), dpi=80)\n",
    "name_list = ['test','test','tr','tr','test','tr','tr','test','test']\n",
    "num_list = s.loc[\"mean\"]\n",
    "yerr = s.loc[\"std\"]/np.sqrt(s.iloc[0,0])\n",
    "plt.bar(range(len(num_list)), num_list,tick_label=name_list,color=['c','c','seagreen','seagreen','c','seagreen','seagreen','c','c'])\n",
    "plt.xlabel(\"Sequence\")\n",
    "plt.ylabel(\"Performance Index\")\n",
    "plt.title(\"PI Figure\")\n",
    "plt.ylim(-0.6,0.8)\n",
    "#plt.errorbar([i for i in range(9)],num_list,yerr=yerr,fmt=\"b\",color=\"teal\")\n",
    "plt.errorbar([i for i in range(9)],num_list,yerr=yerr,ls='none',fillstyle='none',ms=9,mew=1.3,color='y')\n",
    "plt.grid(color=\"grey\",linewidth='0.1')\n",
    "plt.show()"
   ]
  },
  {
   "cell_type": "code",
   "execution_count": 20,
   "metadata": {
    "collapsed": false
   },
   "outputs": [
    {
     "data": {
      "text/plain": [
       "0    0.074064\n",
       "1    0.054697\n",
       "2    0.065471\n",
       "3    0.070284\n",
       "4    0.038573\n",
       "5    0.063806\n",
       "6    0.080420\n",
       "7    0.048528\n",
       "8    0.056666\n",
       "Name: std, dtype: float64"
      ]
     },
     "execution_count": 20,
     "metadata": {},
     "output_type": "execute_result"
    }
   ],
   "source": [
    "yerr"
   ]
  },
  {
   "cell_type": "code",
   "execution_count": 21,
   "metadata": {
    "collapsed": false
   },
   "outputs": [
    {
     "ename": "SyntaxError",
     "evalue": "invalid syntax (<ipython-input-21-260c5236135a>, line 1)",
     "output_type": "error",
     "traceback": [
      "\u001b[0;36m  File \u001b[0;32m\"<ipython-input-21-260c5236135a>\"\u001b[0;36m, line \u001b[0;32m1\u001b[0m\n\u001b[0;31m    0.037000\t-0.00250\t0.284000\t0.23750\t0.044500\t0.162000\t0.135500\t-0.03200\t-0.00200\u001b[0m\n\u001b[0m            \t        \t       ^\u001b[0m\n\u001b[0;31mSyntaxError\u001b[0m\u001b[0;31m:\u001b[0m invalid syntax\n"
     ]
    }
   ],
   "source": [
    "0.037000\t-0.00250\t0.284000\t0.23750\t0.044500\t0.162000\t0.135500\t-0.03200\t-0.00200"
   ]
  },
  {
   "cell_type": "code",
   "execution_count": null,
   "metadata": {
    "collapsed": false,
    "scrolled": true
   },
   "outputs": [],
   "source": [
    "import numpy as np\n",
    "fig = plt.figure(0)\n",
    "x = np.arange(10.0)\n",
    "y = np.sin(np.arange(10.0) / 20.0 * np.pi)\n",
    "\n",
    "plt.errorbar(x, y, yerr=0.1)\n",
    "\n",
    "y = np.sin(np.arange(10.0) / 20.0 * np.pi) + 1\n",
    "plt.errorbar(x, y, yerr=0.1, uplims=True)\n",
    "\n",
    "y = np.sin(np.arange(10.0) / 20.0 * np.pi) + 2\n",
    "upperlimits = np.array([1, 0] * 5)\n",
    "lowerlimits = np.array([0, 1] * 5)\n",
    "plt.errorbar(x, y, yerr=0.1,uplims=upperlimits, lolims=lowerlimits)\n",
    "\n",
    "plt.xlim(-1, 10)\n",
    "plt.show()"
   ]
  },
  {
   "cell_type": "code",
   "execution_count": null,
   "metadata": {
    "collapsed": false
   },
   "outputs": [],
   "source": [
    "x = np.linspace(0, 10, 50) \n",
    "dy = 0.8 \n",
    "y = np.sin(x) + dy * np.random.randn(50) \n",
    "\n",
    "plt.errorbar(x, y, yerr=dy, fmt='.k'); \n",
    "plt.show()"
   ]
  },
  {
   "cell_type": "code",
   "execution_count": null,
   "metadata": {
    "collapsed": true
   },
   "outputs": [],
   "source": [
    "fig,ax = plt.subplots()"
   ]
  },
  {
   "cell_type": "code",
   "execution_count": null,
   "metadata": {
    "collapsed": false
   },
   "outputs": [],
   "source": [
    "plt.bar(range(len(num_list)), num_list,yerr = [1,1,1,1,1,1,1,1,1],,tick_label=name_list,color=['c','c','seagreen','seagreen','c','seagreen','seagreen','c','c'])\n",
    "plt.show()\n",
    "\n",
    "\n",
    "\n"
   ]
  },
  {
   "cell_type": "code",
   "execution_count": null,
   "metadata": {
    "collapsed": true
   },
   "outputs": [],
   "source": []
  }
 ],
 "metadata": {
  "kernelspec": {
   "display_name": "Python 3",
   "language": "python",
   "name": "python3"
  },
  "language_info": {
   "codemirror_mode": {
    "name": "ipython",
    "version": 3
   },
   "file_extension": ".py",
   "mimetype": "text/x-python",
   "name": "python",
   "nbconvert_exporter": "python",
   "pygments_lexer": "ipython3",
   "version": "3.6.0"
  }
 },
 "nbformat": 4,
 "nbformat_minor": 2
}
