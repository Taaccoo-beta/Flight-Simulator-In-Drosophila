{
 "cells": [
  {
   "cell_type": "markdown",
   "metadata": {},
   "source": [
    "# DTAT PROCESS FOR NEW DATA\n"
   ]
  },
  {
   "cell_type": "code",
   "execution_count": 28,
   "metadata": {
    "collapsed": false
   },
   "outputs": [
    {
     "name": "stdout",
     "output_type": "stream",
     "text": [
      "['F:\\\\data\\\\newData\\\\48378xKir2.1-1.txt', 'F:\\\\data\\\\newData\\\\48378xKir2.1-10.txt', 'F:\\\\data\\\\newData\\\\48378xKir2.1-11.txt', 'F:\\\\data\\\\newData\\\\48378xKir2.1-12.txt', 'F:\\\\data\\\\newData\\\\48378xKir2.1-13.txt', 'F:\\\\data\\\\newData\\\\48378xKir2.1-14.txt', 'F:\\\\data\\\\newData\\\\48378xKir2.1-15.txt', 'F:\\\\data\\\\newData\\\\48378xKir2.1-16.txt', 'F:\\\\data\\\\newData\\\\48378xKir2.1-17.txt', 'F:\\\\data\\\\newData\\\\48378xKir2.1-18.txt', 'F:\\\\data\\\\newData\\\\48378xKir2.1-19.txt', 'F:\\\\data\\\\newData\\\\48378xKir2.1-2.txt', 'F:\\\\data\\\\newData\\\\48378xKir2.1-20.txt', 'F:\\\\data\\\\newData\\\\48378xKir2.1-3.txt', 'F:\\\\data\\\\newData\\\\48378xKir2.1-4.txt', 'F:\\\\data\\\\newData\\\\48378xKir2.1-5.txt', 'F:\\\\data\\\\newData\\\\48378xKir2.1-6.txt', 'F:\\\\data\\\\newData\\\\48378xKir2.1-7.txt', 'F:\\\\data\\\\newData\\\\48378xKir2.1-8.txt', 'F:\\\\data\\\\newData\\\\48378xKir2.1-9.txt']\n"
     ]
    }
   ],
   "source": [
    "import os\n",
    "from os.path import join\n",
    "AllFile = []\n",
    "dest = \"F:\\\\data\\\\newData\"\n",
    "for root, dirs, files in os.walk( dest ):\n",
    "    for OneFileName in files :\n",
    "        OneFullFileName = join( root, OneFileName )\n",
    "        AllFile.append(OneFullFileName)\n",
    "    print(AllFile)"
   ]
  },
  {
   "cell_type": "code",
   "execution_count": 29,
   "metadata": {
    "collapsed": true
   },
   "outputs": [],
   "source": [
    "# firstData = []\n",
    "secondData = []\n",
    "# for i in AllFile:\n",
    "#     if(len(i)==26):\n",
    "#         firstData.append(i)\n",
    "#     else:\n",
    "#         secondData.append(i)\n",
    "for i in AllFile:\n",
    "    secondData.append(i)"
   ]
  },
  {
   "cell_type": "code",
   "execution_count": 30,
   "metadata": {
    "collapsed": false
   },
   "outputs": [],
   "source": [
    "# firstData"
   ]
  },
  {
   "cell_type": "code",
   "execution_count": 31,
   "metadata": {
    "collapsed": false
   },
   "outputs": [
    {
     "data": {
      "text/plain": [
       "['F:\\\\data\\\\newData\\\\48378xKir2.1-1.txt',\n",
       " 'F:\\\\data\\\\newData\\\\48378xKir2.1-10.txt',\n",
       " 'F:\\\\data\\\\newData\\\\48378xKir2.1-11.txt',\n",
       " 'F:\\\\data\\\\newData\\\\48378xKir2.1-12.txt',\n",
       " 'F:\\\\data\\\\newData\\\\48378xKir2.1-13.txt',\n",
       " 'F:\\\\data\\\\newData\\\\48378xKir2.1-14.txt',\n",
       " 'F:\\\\data\\\\newData\\\\48378xKir2.1-15.txt',\n",
       " 'F:\\\\data\\\\newData\\\\48378xKir2.1-16.txt',\n",
       " 'F:\\\\data\\\\newData\\\\48378xKir2.1-17.txt',\n",
       " 'F:\\\\data\\\\newData\\\\48378xKir2.1-18.txt',\n",
       " 'F:\\\\data\\\\newData\\\\48378xKir2.1-19.txt',\n",
       " 'F:\\\\data\\\\newData\\\\48378xKir2.1-2.txt',\n",
       " 'F:\\\\data\\\\newData\\\\48378xKir2.1-20.txt',\n",
       " 'F:\\\\data\\\\newData\\\\48378xKir2.1-3.txt',\n",
       " 'F:\\\\data\\\\newData\\\\48378xKir2.1-4.txt',\n",
       " 'F:\\\\data\\\\newData\\\\48378xKir2.1-5.txt',\n",
       " 'F:\\\\data\\\\newData\\\\48378xKir2.1-6.txt',\n",
       " 'F:\\\\data\\\\newData\\\\48378xKir2.1-7.txt',\n",
       " 'F:\\\\data\\\\newData\\\\48378xKir2.1-8.txt',\n",
       " 'F:\\\\data\\\\newData\\\\48378xKir2.1-9.txt']"
      ]
     },
     "execution_count": 31,
     "metadata": {},
     "output_type": "execute_result"
    }
   ],
   "source": [
    "secondData"
   ]
  },
  {
   "cell_type": "code",
   "execution_count": 32,
   "metadata": {
    "collapsed": true
   },
   "outputs": [],
   "source": [
    "# def read_dta(dta):\n",
    "#     \"\"\"read the dta file and return numerical array\"\"\"\n",
    "#     with open(dta) as f:\n",
    "#         newData = []\n",
    "#         data  = f.readlines()\n",
    "#         for i in data[6:]:\n",
    "#               newData.append(float(i[0:6]))\n",
    "#         return newData"
   ]
  },
  {
   "cell_type": "code",
   "execution_count": 33,
   "metadata": {
    "collapsed": false
   },
   "outputs": [],
   "source": [
    "# datatest = read_dta(secondData[1])"
   ]
  },
  {
   "cell_type": "code",
   "execution_count": 34,
   "metadata": {
    "collapsed": true
   },
   "outputs": [],
   "source": [
    "# def getPIValue(data):\n",
    "#     PIValue = []\n",
    "#     for j in range(9):\n",
    "#         upT = 0\n",
    "#         downT = 0\n",
    "#         for i in range(0+j*1200,1200+j*1200):\n",
    "#             if (data[i]>1488 and data[i]<2000) or (data[i]>2516 or data[i] <976):\n",
    "#                 upT+=1\n",
    "#             else:\n",
    "#                 downT+=1\n",
    "#         print(upT)\n",
    "#         print(downT)\n",
    "#         print(upT+downT)\n",
    "#         PIValue.append((upT-downT)/(upT+downT))\n",
    "#     return PIValue"
   ]
  },
  {
   "cell_type": "code",
   "execution_count": 35,
   "metadata": {
    "collapsed": false
   },
   "outputs": [],
   "source": [
    "# firstDataPIValue = []\n",
    "# for i in firstData:\n",
    "#     data = read_dta(i)\n",
    "#     PI = getPIValue(data)\n",
    "#     firstDataPIValue.append(PI)\n",
    "# print(firstDataPIValue)"
   ]
  },
  {
   "cell_type": "code",
   "execution_count": 36,
   "metadata": {
    "collapsed": false
   },
   "outputs": [],
   "source": [
    "# for i in range(9):\n",
    "#     firstDataPIValue[4][i] = -firstDataPIValue[4][i]\n",
    "    \n",
    "# for i in firstDataPIValue:\n",
    "#     print(i)"
   ]
  },
  {
   "cell_type": "code",
   "execution_count": 37,
   "metadata": {
    "collapsed": false
   },
   "outputs": [
    {
     "name": "stdout",
     "output_type": "stream",
     "text": [
      "[[0.09, 0.23, 0.0, 0.06, -0.17, 0.18, 0.13, -0.05, -0.06], [-0.83, 0.04, 0.7, 0.19, 0.0, 0.02, -0.06, 0.54, 0.11], [0.32, 0.21, 0.13, 0.08, 0.06, 0.01, -0.03, -0.01, -0.01], [0.3, 0.05, 0.22, 0.35, 0.03, 0.32, 0.41, 0.07, -0.04], [-0.04, -0.01, 0.2, 0.09, 0.08, 0.05, 0.04, -0.04, 0.02], [-0.01, -0.53, 0.09, -0.09, 0.05, 0.03, 0.07, -0.16, 0.06], [0.04, -0.07, 0.12, 0.22, -0.01, 0.09, 0.09, -0.05, 0.01], [0.69, -0.16, 0.28, 0.85, -0.2, 0.45, 0.66, -0.42, -0.25], [0.5, -0.75, 0.06, -0.03, -0.63, -0.18, -0.27, -0.36, -0.13], [-0.27, -0.08, 0.42, 0.27, 0.16, -0.08, -0.03, 0.19, 0.33], [0.39, 0.29, 0.72, 0.19, 0.15, 0.65, 0.04, -0.39, -0.26], [-0.02, -0.15, 0.74, 0.52, 0.0, -0.69, -0.38, -0.04, 0.0], [0.49, 0.5, 0.46, 0.17, 0.3, 0.09, -0.12, -0.03, -0.01], [0.21, -0.07, 0.72, 0.43, 0.11, 0.79, 0.9, 0.02, 0.02], [0.08, 0.18, 0.08, 0.4, -0.07, 0.6, 0.3, -0.19, -0.01], [-0.12, 0.15, 0.22, 0.44, 0.28, 0.52, 0.17, 0.35, 0.24], [-0.51, 0.52, 0.12, 0.06, 0.38, -0.01, -0.09, -0.02, -0.05], [-0.55, -0.4, 0.05, -0.06, 0.06, 0.01, 0.2, 0.04, 0.0], [-0.05, 0.01, 0.04, 0.18, 0.07, -0.06, 0.37, 0.01, 0.01], [0.03, -0.01, 0.31, 0.43, 0.24, 0.45, 0.31, -0.1, -0.02]]\n"
     ]
    }
   ],
   "source": [
    "secondPIValue=[]\n",
    "for i in secondData:\n",
    "    temp = []\n",
    "    with open(i) as f:\n",
    "        newData = []\n",
    "        data  = f.readlines()\n",
    "        for j in data[5][13:-2].split(\",\"):\n",
    "            temp.append(float(j))\n",
    "    secondPIValue.append(temp)\n",
    "    \n",
    "print(secondPIValue)\n",
    "            \n"
   ]
  },
  {
   "cell_type": "code",
   "execution_count": null,
   "metadata": {
    "collapsed": true
   },
   "outputs": [],
   "source": []
  },
  {
   "cell_type": "code",
   "execution_count": 38,
   "metadata": {
    "collapsed": false
   },
   "outputs": [],
   "source": [
    "# firstDataPIValue"
   ]
  },
  {
   "cell_type": "code",
   "execution_count": 39,
   "metadata": {
    "collapsed": true
   },
   "outputs": [],
   "source": [
    "firstDataPIValue=[]\n",
    "for i in secondPIValue:\n",
    "    firstDataPIValue.append(i)\n"
   ]
  },
  {
   "cell_type": "code",
   "execution_count": 40,
   "metadata": {
    "collapsed": false
   },
   "outputs": [
    {
     "data": {
      "text/plain": [
       "[[0.09, 0.23, 0.0, 0.06, -0.17, 0.18, 0.13, -0.05, -0.06],\n",
       " [-0.83, 0.04, 0.7, 0.19, 0.0, 0.02, -0.06, 0.54, 0.11],\n",
       " [0.32, 0.21, 0.13, 0.08, 0.06, 0.01, -0.03, -0.01, -0.01],\n",
       " [0.3, 0.05, 0.22, 0.35, 0.03, 0.32, 0.41, 0.07, -0.04],\n",
       " [-0.04, -0.01, 0.2, 0.09, 0.08, 0.05, 0.04, -0.04, 0.02],\n",
       " [-0.01, -0.53, 0.09, -0.09, 0.05, 0.03, 0.07, -0.16, 0.06],\n",
       " [0.04, -0.07, 0.12, 0.22, -0.01, 0.09, 0.09, -0.05, 0.01],\n",
       " [0.69, -0.16, 0.28, 0.85, -0.2, 0.45, 0.66, -0.42, -0.25],\n",
       " [0.5, -0.75, 0.06, -0.03, -0.63, -0.18, -0.27, -0.36, -0.13],\n",
       " [-0.27, -0.08, 0.42, 0.27, 0.16, -0.08, -0.03, 0.19, 0.33],\n",
       " [0.39, 0.29, 0.72, 0.19, 0.15, 0.65, 0.04, -0.39, -0.26],\n",
       " [-0.02, -0.15, 0.74, 0.52, 0.0, -0.69, -0.38, -0.04, 0.0],\n",
       " [0.49, 0.5, 0.46, 0.17, 0.3, 0.09, -0.12, -0.03, -0.01],\n",
       " [0.21, -0.07, 0.72, 0.43, 0.11, 0.79, 0.9, 0.02, 0.02],\n",
       " [0.08, 0.18, 0.08, 0.4, -0.07, 0.6, 0.3, -0.19, -0.01],\n",
       " [-0.12, 0.15, 0.22, 0.44, 0.28, 0.52, 0.17, 0.35, 0.24],\n",
       " [-0.51, 0.52, 0.12, 0.06, 0.38, -0.01, -0.09, -0.02, -0.05],\n",
       " [-0.55, -0.4, 0.05, -0.06, 0.06, 0.01, 0.2, 0.04, 0.0],\n",
       " [-0.05, 0.01, 0.04, 0.18, 0.07, -0.06, 0.37, 0.01, 0.01],\n",
       " [0.03, -0.01, 0.31, 0.43, 0.24, 0.45, 0.31, -0.1, -0.02]]"
      ]
     },
     "execution_count": 40,
     "metadata": {},
     "output_type": "execute_result"
    }
   ],
   "source": [
    "firstDataPIValue"
   ]
  },
  {
   "cell_type": "code",
   "execution_count": 41,
   "metadata": {
    "collapsed": false
   },
   "outputs": [
    {
     "name": "stdout",
     "output_type": "stream",
     "text": [
      "[0.09, 0.23, 0.0, 0.06, -0.17, 0.18, 0.13, -0.05, -0.06]\n",
      "[-0.83, 0.04, 0.7, 0.19, 0.0, 0.02, -0.06, 0.54, 0.11]\n",
      "[0.32, 0.21, 0.13, 0.08, 0.06, 0.01, -0.03, -0.01, -0.01]\n",
      "[0.3, 0.05, 0.22, 0.35, 0.03, 0.32, 0.41, 0.07, -0.04]\n",
      "[-0.04, -0.01, 0.2, 0.09, 0.08, 0.05, 0.04, -0.04, 0.02]\n",
      "[-0.01, -0.53, 0.09, -0.09, 0.05, 0.03, 0.07, -0.16, 0.06]\n",
      "[0.04, -0.07, 0.12, 0.22, -0.01, 0.09, 0.09, -0.05, 0.01]\n",
      "[0.69, -0.16, 0.28, 0.85, -0.2, 0.45, 0.66, -0.42, -0.25]\n",
      "[0.5, -0.75, 0.06, -0.03, -0.63, -0.18, -0.27, -0.36, -0.13]\n",
      "[-0.27, -0.08, 0.42, 0.27, 0.16, -0.08, -0.03, 0.19, 0.33]\n",
      "[0.39, 0.29, 0.72, 0.19, 0.15, 0.65, 0.04, -0.39, -0.26]\n",
      "[-0.02, -0.15, 0.74, 0.52, 0.0, -0.69, -0.38, -0.04, 0.0]\n",
      "[0.49, 0.5, 0.46, 0.17, 0.3, 0.09, -0.12, -0.03, -0.01]\n",
      "[0.21, -0.07, 0.72, 0.43, 0.11, 0.79, 0.9, 0.02, 0.02]\n",
      "[0.08, 0.18, 0.08, 0.4, -0.07, 0.6, 0.3, -0.19, -0.01]\n",
      "[-0.12, 0.15, 0.22, 0.44, 0.28, 0.52, 0.17, 0.35, 0.24]\n",
      "[-0.51, 0.52, 0.12, 0.06, 0.38, -0.01, -0.09, -0.02, -0.05]\n",
      "[-0.55, -0.4, 0.05, -0.06, 0.06, 0.01, 0.2, 0.04, 0.0]\n",
      "[-0.05, 0.01, 0.04, 0.18, 0.07, -0.06, 0.37, 0.01, 0.01]\n",
      "[0.03, -0.01, 0.31, 0.43, 0.24, 0.45, 0.31, -0.1, -0.02]\n"
     ]
    }
   ],
   "source": [
    "for i in firstDataPIValue:\n",
    "    print(i)"
   ]
  },
  {
   "cell_type": "code",
   "execution_count": 42,
   "metadata": {
    "collapsed": false
   },
   "outputs": [],
   "source": [
    "# for i in range(9):\n",
    "#     firstDataPIValue[18][i] = -firstDataPIValue[18][i]\n",
    "    \n",
    "    "
   ]
  },
  {
   "cell_type": "code",
   "execution_count": null,
   "metadata": {
    "collapsed": true
   },
   "outputs": [],
   "source": []
  },
  {
   "cell_type": "code",
   "execution_count": 43,
   "metadata": {
    "collapsed": false
   },
   "outputs": [
    {
     "data": {
      "text/html": [
       "<div>\n",
       "<table border=\"1\" class=\"dataframe\">\n",
       "  <thead>\n",
       "    <tr style=\"text-align: right;\">\n",
       "      <th></th>\n",
       "      <th>0</th>\n",
       "      <th>1</th>\n",
       "      <th>2</th>\n",
       "      <th>3</th>\n",
       "      <th>4</th>\n",
       "      <th>5</th>\n",
       "      <th>6</th>\n",
       "      <th>7</th>\n",
       "      <th>8</th>\n",
       "      <th>9</th>\n",
       "      <th>10</th>\n",
       "      <th>11</th>\n",
       "      <th>12</th>\n",
       "      <th>13</th>\n",
       "      <th>14</th>\n",
       "      <th>15</th>\n",
       "      <th>16</th>\n",
       "      <th>17</th>\n",
       "      <th>18</th>\n",
       "      <th>19</th>\n",
       "    </tr>\n",
       "  </thead>\n",
       "  <tbody>\n",
       "    <tr>\n",
       "      <th>0</th>\n",
       "      <td>0.09</td>\n",
       "      <td>-0.83</td>\n",
       "      <td>0.32</td>\n",
       "      <td>0.30</td>\n",
       "      <td>-0.04</td>\n",
       "      <td>-0.01</td>\n",
       "      <td>0.04</td>\n",
       "      <td>0.69</td>\n",
       "      <td>0.50</td>\n",
       "      <td>-0.27</td>\n",
       "      <td>0.39</td>\n",
       "      <td>-0.02</td>\n",
       "      <td>0.49</td>\n",
       "      <td>0.21</td>\n",
       "      <td>0.08</td>\n",
       "      <td>-0.12</td>\n",
       "      <td>-0.51</td>\n",
       "      <td>-0.55</td>\n",
       "      <td>-0.05</td>\n",
       "      <td>0.03</td>\n",
       "    </tr>\n",
       "    <tr>\n",
       "      <th>1</th>\n",
       "      <td>0.23</td>\n",
       "      <td>0.04</td>\n",
       "      <td>0.21</td>\n",
       "      <td>0.05</td>\n",
       "      <td>-0.01</td>\n",
       "      <td>-0.53</td>\n",
       "      <td>-0.07</td>\n",
       "      <td>-0.16</td>\n",
       "      <td>-0.75</td>\n",
       "      <td>-0.08</td>\n",
       "      <td>0.29</td>\n",
       "      <td>-0.15</td>\n",
       "      <td>0.50</td>\n",
       "      <td>-0.07</td>\n",
       "      <td>0.18</td>\n",
       "      <td>0.15</td>\n",
       "      <td>0.52</td>\n",
       "      <td>-0.40</td>\n",
       "      <td>0.01</td>\n",
       "      <td>-0.01</td>\n",
       "    </tr>\n",
       "    <tr>\n",
       "      <th>2</th>\n",
       "      <td>0.00</td>\n",
       "      <td>0.70</td>\n",
       "      <td>0.13</td>\n",
       "      <td>0.22</td>\n",
       "      <td>0.20</td>\n",
       "      <td>0.09</td>\n",
       "      <td>0.12</td>\n",
       "      <td>0.28</td>\n",
       "      <td>0.06</td>\n",
       "      <td>0.42</td>\n",
       "      <td>0.72</td>\n",
       "      <td>0.74</td>\n",
       "      <td>0.46</td>\n",
       "      <td>0.72</td>\n",
       "      <td>0.08</td>\n",
       "      <td>0.22</td>\n",
       "      <td>0.12</td>\n",
       "      <td>0.05</td>\n",
       "      <td>0.04</td>\n",
       "      <td>0.31</td>\n",
       "    </tr>\n",
       "    <tr>\n",
       "      <th>3</th>\n",
       "      <td>0.06</td>\n",
       "      <td>0.19</td>\n",
       "      <td>0.08</td>\n",
       "      <td>0.35</td>\n",
       "      <td>0.09</td>\n",
       "      <td>-0.09</td>\n",
       "      <td>0.22</td>\n",
       "      <td>0.85</td>\n",
       "      <td>-0.03</td>\n",
       "      <td>0.27</td>\n",
       "      <td>0.19</td>\n",
       "      <td>0.52</td>\n",
       "      <td>0.17</td>\n",
       "      <td>0.43</td>\n",
       "      <td>0.40</td>\n",
       "      <td>0.44</td>\n",
       "      <td>0.06</td>\n",
       "      <td>-0.06</td>\n",
       "      <td>0.18</td>\n",
       "      <td>0.43</td>\n",
       "    </tr>\n",
       "    <tr>\n",
       "      <th>4</th>\n",
       "      <td>-0.17</td>\n",
       "      <td>0.00</td>\n",
       "      <td>0.06</td>\n",
       "      <td>0.03</td>\n",
       "      <td>0.08</td>\n",
       "      <td>0.05</td>\n",
       "      <td>-0.01</td>\n",
       "      <td>-0.20</td>\n",
       "      <td>-0.63</td>\n",
       "      <td>0.16</td>\n",
       "      <td>0.15</td>\n",
       "      <td>0.00</td>\n",
       "      <td>0.30</td>\n",
       "      <td>0.11</td>\n",
       "      <td>-0.07</td>\n",
       "      <td>0.28</td>\n",
       "      <td>0.38</td>\n",
       "      <td>0.06</td>\n",
       "      <td>0.07</td>\n",
       "      <td>0.24</td>\n",
       "    </tr>\n",
       "    <tr>\n",
       "      <th>5</th>\n",
       "      <td>0.18</td>\n",
       "      <td>0.02</td>\n",
       "      <td>0.01</td>\n",
       "      <td>0.32</td>\n",
       "      <td>0.05</td>\n",
       "      <td>0.03</td>\n",
       "      <td>0.09</td>\n",
       "      <td>0.45</td>\n",
       "      <td>-0.18</td>\n",
       "      <td>-0.08</td>\n",
       "      <td>0.65</td>\n",
       "      <td>-0.69</td>\n",
       "      <td>0.09</td>\n",
       "      <td>0.79</td>\n",
       "      <td>0.60</td>\n",
       "      <td>0.52</td>\n",
       "      <td>-0.01</td>\n",
       "      <td>0.01</td>\n",
       "      <td>-0.06</td>\n",
       "      <td>0.45</td>\n",
       "    </tr>\n",
       "    <tr>\n",
       "      <th>6</th>\n",
       "      <td>0.13</td>\n",
       "      <td>-0.06</td>\n",
       "      <td>-0.03</td>\n",
       "      <td>0.41</td>\n",
       "      <td>0.04</td>\n",
       "      <td>0.07</td>\n",
       "      <td>0.09</td>\n",
       "      <td>0.66</td>\n",
       "      <td>-0.27</td>\n",
       "      <td>-0.03</td>\n",
       "      <td>0.04</td>\n",
       "      <td>-0.38</td>\n",
       "      <td>-0.12</td>\n",
       "      <td>0.90</td>\n",
       "      <td>0.30</td>\n",
       "      <td>0.17</td>\n",
       "      <td>-0.09</td>\n",
       "      <td>0.20</td>\n",
       "      <td>0.37</td>\n",
       "      <td>0.31</td>\n",
       "    </tr>\n",
       "    <tr>\n",
       "      <th>7</th>\n",
       "      <td>-0.05</td>\n",
       "      <td>0.54</td>\n",
       "      <td>-0.01</td>\n",
       "      <td>0.07</td>\n",
       "      <td>-0.04</td>\n",
       "      <td>-0.16</td>\n",
       "      <td>-0.05</td>\n",
       "      <td>-0.42</td>\n",
       "      <td>-0.36</td>\n",
       "      <td>0.19</td>\n",
       "      <td>-0.39</td>\n",
       "      <td>-0.04</td>\n",
       "      <td>-0.03</td>\n",
       "      <td>0.02</td>\n",
       "      <td>-0.19</td>\n",
       "      <td>0.35</td>\n",
       "      <td>-0.02</td>\n",
       "      <td>0.04</td>\n",
       "      <td>0.01</td>\n",
       "      <td>-0.10</td>\n",
       "    </tr>\n",
       "    <tr>\n",
       "      <th>8</th>\n",
       "      <td>-0.06</td>\n",
       "      <td>0.11</td>\n",
       "      <td>-0.01</td>\n",
       "      <td>-0.04</td>\n",
       "      <td>0.02</td>\n",
       "      <td>0.06</td>\n",
       "      <td>0.01</td>\n",
       "      <td>-0.25</td>\n",
       "      <td>-0.13</td>\n",
       "      <td>0.33</td>\n",
       "      <td>-0.26</td>\n",
       "      <td>0.00</td>\n",
       "      <td>-0.01</td>\n",
       "      <td>0.02</td>\n",
       "      <td>-0.01</td>\n",
       "      <td>0.24</td>\n",
       "      <td>-0.05</td>\n",
       "      <td>0.00</td>\n",
       "      <td>0.01</td>\n",
       "      <td>-0.02</td>\n",
       "    </tr>\n",
       "  </tbody>\n",
       "</table>\n",
       "</div>"
      ],
      "text/plain": [
       "     0     1     2     3     4     5     6     7     8     9     10    11  \\\n",
       "0  0.09 -0.83  0.32  0.30 -0.04 -0.01  0.04  0.69  0.50 -0.27  0.39 -0.02   \n",
       "1  0.23  0.04  0.21  0.05 -0.01 -0.53 -0.07 -0.16 -0.75 -0.08  0.29 -0.15   \n",
       "2  0.00  0.70  0.13  0.22  0.20  0.09  0.12  0.28  0.06  0.42  0.72  0.74   \n",
       "3  0.06  0.19  0.08  0.35  0.09 -0.09  0.22  0.85 -0.03  0.27  0.19  0.52   \n",
       "4 -0.17  0.00  0.06  0.03  0.08  0.05 -0.01 -0.20 -0.63  0.16  0.15  0.00   \n",
       "5  0.18  0.02  0.01  0.32  0.05  0.03  0.09  0.45 -0.18 -0.08  0.65 -0.69   \n",
       "6  0.13 -0.06 -0.03  0.41  0.04  0.07  0.09  0.66 -0.27 -0.03  0.04 -0.38   \n",
       "7 -0.05  0.54 -0.01  0.07 -0.04 -0.16 -0.05 -0.42 -0.36  0.19 -0.39 -0.04   \n",
       "8 -0.06  0.11 -0.01 -0.04  0.02  0.06  0.01 -0.25 -0.13  0.33 -0.26  0.00   \n",
       "\n",
       "     12    13    14    15    16    17    18    19  \n",
       "0  0.49  0.21  0.08 -0.12 -0.51 -0.55 -0.05  0.03  \n",
       "1  0.50 -0.07  0.18  0.15  0.52 -0.40  0.01 -0.01  \n",
       "2  0.46  0.72  0.08  0.22  0.12  0.05  0.04  0.31  \n",
       "3  0.17  0.43  0.40  0.44  0.06 -0.06  0.18  0.43  \n",
       "4  0.30  0.11 -0.07  0.28  0.38  0.06  0.07  0.24  \n",
       "5  0.09  0.79  0.60  0.52 -0.01  0.01 -0.06  0.45  \n",
       "6 -0.12  0.90  0.30  0.17 -0.09  0.20  0.37  0.31  \n",
       "7 -0.03  0.02 -0.19  0.35 -0.02  0.04  0.01 -0.10  \n",
       "8 -0.01  0.02 -0.01  0.24 -0.05  0.00  0.01 -0.02  "
      ]
     },
     "execution_count": 43,
     "metadata": {},
     "output_type": "execute_result"
    }
   ],
   "source": [
    "import pandas as pd\n",
    "\n",
    "data = {i:firstDataPIValue[i] for i in range(len(firstDataPIValue))}\n",
    "pdData = pd.DataFrame(data)\n",
    "pdData"
   ]
  },
  {
   "cell_type": "code",
   "execution_count": 44,
   "metadata": {
    "collapsed": true
   },
   "outputs": [],
   "source": [
    "s = pdData.T.describe()"
   ]
  },
  {
   "cell_type": "code",
   "execution_count": 45,
   "metadata": {
    "collapsed": false
   },
   "outputs": [
    {
     "data": {
      "text/html": [
       "<div>\n",
       "<table border=\"1\" class=\"dataframe\">\n",
       "  <thead>\n",
       "    <tr style=\"text-align: right;\">\n",
       "      <th></th>\n",
       "      <th>0</th>\n",
       "      <th>1</th>\n",
       "      <th>2</th>\n",
       "      <th>3</th>\n",
       "      <th>4</th>\n",
       "      <th>5</th>\n",
       "      <th>6</th>\n",
       "      <th>7</th>\n",
       "      <th>8</th>\n",
       "    </tr>\n",
       "  </thead>\n",
       "  <tbody>\n",
       "    <tr>\n",
       "      <th>count</th>\n",
       "      <td>20.000000</td>\n",
       "      <td>20.00000</td>\n",
       "      <td>20.000000</td>\n",
       "      <td>20.00000</td>\n",
       "      <td>20.000000</td>\n",
       "      <td>20.000000</td>\n",
       "      <td>20.000000</td>\n",
       "      <td>20.00000</td>\n",
       "      <td>20.00000</td>\n",
       "    </tr>\n",
       "    <tr>\n",
       "      <th>mean</th>\n",
       "      <td>0.037000</td>\n",
       "      <td>-0.00250</td>\n",
       "      <td>0.284000</td>\n",
       "      <td>0.23750</td>\n",
       "      <td>0.044500</td>\n",
       "      <td>0.162000</td>\n",
       "      <td>0.135500</td>\n",
       "      <td>-0.03200</td>\n",
       "      <td>-0.00200</td>\n",
       "    </tr>\n",
       "    <tr>\n",
       "      <th>std</th>\n",
       "      <td>0.376117</td>\n",
       "      <td>0.31021</td>\n",
       "      <td>0.254277</td>\n",
       "      <td>0.22939</td>\n",
       "      <td>0.215662</td>\n",
       "      <td>0.342646</td>\n",
       "      <td>0.300587</td>\n",
       "      <td>0.22666</td>\n",
       "      <td>0.13348</td>\n",
       "    </tr>\n",
       "    <tr>\n",
       "      <th>min</th>\n",
       "      <td>-0.830000</td>\n",
       "      <td>-0.75000</td>\n",
       "      <td>0.000000</td>\n",
       "      <td>-0.09000</td>\n",
       "      <td>-0.630000</td>\n",
       "      <td>-0.690000</td>\n",
       "      <td>-0.380000</td>\n",
       "      <td>-0.42000</td>\n",
       "      <td>-0.26000</td>\n",
       "    </tr>\n",
       "    <tr>\n",
       "      <th>25%</th>\n",
       "      <td>-0.067500</td>\n",
       "      <td>-0.09750</td>\n",
       "      <td>0.087500</td>\n",
       "      <td>0.07500</td>\n",
       "      <td>-0.002500</td>\n",
       "      <td>0.005000</td>\n",
       "      <td>-0.037500</td>\n",
       "      <td>-0.11500</td>\n",
       "      <td>-0.04250</td>\n",
       "    </tr>\n",
       "    <tr>\n",
       "      <th>50%</th>\n",
       "      <td>0.035000</td>\n",
       "      <td>0.00000</td>\n",
       "      <td>0.210000</td>\n",
       "      <td>0.19000</td>\n",
       "      <td>0.060000</td>\n",
       "      <td>0.070000</td>\n",
       "      <td>0.080000</td>\n",
       "      <td>-0.03500</td>\n",
       "      <td>-0.00500</td>\n",
       "    </tr>\n",
       "    <tr>\n",
       "      <th>75%</th>\n",
       "      <td>0.305000</td>\n",
       "      <td>0.18750</td>\n",
       "      <td>0.430000</td>\n",
       "      <td>0.40750</td>\n",
       "      <td>0.152500</td>\n",
       "      <td>0.450000</td>\n",
       "      <td>0.302500</td>\n",
       "      <td>0.02500</td>\n",
       "      <td>0.02000</td>\n",
       "    </tr>\n",
       "    <tr>\n",
       "      <th>max</th>\n",
       "      <td>0.690000</td>\n",
       "      <td>0.52000</td>\n",
       "      <td>0.740000</td>\n",
       "      <td>0.85000</td>\n",
       "      <td>0.380000</td>\n",
       "      <td>0.790000</td>\n",
       "      <td>0.900000</td>\n",
       "      <td>0.54000</td>\n",
       "      <td>0.33000</td>\n",
       "    </tr>\n",
       "  </tbody>\n",
       "</table>\n",
       "</div>"
      ],
      "text/plain": [
       "               0         1          2         3          4          5  \\\n",
       "count  20.000000  20.00000  20.000000  20.00000  20.000000  20.000000   \n",
       "mean    0.037000  -0.00250   0.284000   0.23750   0.044500   0.162000   \n",
       "std     0.376117   0.31021   0.254277   0.22939   0.215662   0.342646   \n",
       "min    -0.830000  -0.75000   0.000000  -0.09000  -0.630000  -0.690000   \n",
       "25%    -0.067500  -0.09750   0.087500   0.07500  -0.002500   0.005000   \n",
       "50%     0.035000   0.00000   0.210000   0.19000   0.060000   0.070000   \n",
       "75%     0.305000   0.18750   0.430000   0.40750   0.152500   0.450000   \n",
       "max     0.690000   0.52000   0.740000   0.85000   0.380000   0.790000   \n",
       "\n",
       "               6         7         8  \n",
       "count  20.000000  20.00000  20.00000  \n",
       "mean    0.135500  -0.03200  -0.00200  \n",
       "std     0.300587   0.22666   0.13348  \n",
       "min    -0.380000  -0.42000  -0.26000  \n",
       "25%    -0.037500  -0.11500  -0.04250  \n",
       "50%     0.080000  -0.03500  -0.00500  \n",
       "75%     0.302500   0.02500   0.02000  \n",
       "max     0.900000   0.54000   0.33000  "
      ]
     },
     "execution_count": 45,
     "metadata": {},
     "output_type": "execute_result"
    }
   ],
   "source": [
    "s"
   ]
  },
  {
   "cell_type": "code",
   "execution_count": 46,
   "metadata": {
    "collapsed": false
   },
   "outputs": [
    {
     "data": {
      "image/png": "[encoded data removed]",
      "text/plain": [
       "<matplotlib.figure.Figure at 0x1b45ec780b8>"
      ]
     },
     "metadata": {},
     "output_type": "display_data"
    }
   ],
   "source": [
    "import numpy as np\n",
    "import matplotlib.pyplot as plt\n",
    "plt.style.use('seaborn-whitegrid') \n",
    "plt.figure(figsize=(10,8), dpi=80)\n",
    "name_list = ['test','test','tr','tr','test','tr','tr','test','test']\n",
    "num_list = s.loc[\"mean\"]\n",
    "yerr = s.loc[\"std\"]/np.sqrt(s.iloc[0,0])\n",
    "plt.bar(range(len(num_list)), num_list,tick_label=name_list,color=['c','c','seagreen','seagreen','c','seagreen','seagreen','c','c'])\n",
    "plt.xlabel(\"Sequence\")\n",
    "plt.ylabel(\"Performance Index\")\n",
    "plt.title(\"PI Figure\")\n",
    "plt.ylim(-0.6,0.8)\n",
    "#plt.errorbar([i for i in range(9)],num_list,yerr=yerr,fmt=\"b\",color=\"teal\")\n",
    "plt.errorbar([i for i in range(9)],num_list,yerr=yerr,ls='none',fillstyle='none',ms=9,mew=1.3,color='y')\n",
    "plt.grid(color=\"grey\",linewidth='0.1')\n",
    "plt.show()"
   ]
  },
  {
   "cell_type": "code",
   "execution_count": 48,
   "metadata": {
    "collapsed": false
   },
   "outputs": [
    {
     "data": {
      "text/plain": [
       "0    0.084102\n",
       "1    0.069365\n",
       "2    0.056858\n",
       "3    0.051293\n",
       "4    0.048224\n",
       "5    0.076618\n",
       "6    0.067213\n",
       "7    0.050683\n",
       "8    0.029847\n",
       "Name: std, dtype: float64"
      ]
     },
     "execution_count": 48,
     "metadata": {},
     "output_type": "execute_result"
    }
   ],
   "source": [
    "yerr"
   ]
  },
  {
   "cell_type": "code",
   "execution_count": 23,
   "metadata": {
    "collapsed": false
   },
   "outputs": [
    {
     "ename": "KeyError",
     "evalue": "'mean'",
     "output_type": "error",
     "traceback": [
      "\u001b[0;31m---------------------------------------------------------------------------\u001b[0m",
      "\u001b[0;31mTypeError\u001b[0m                                 Traceback (most recent call last)",
      "\u001b[0;32mpandas\\index.pyx\u001b[0m in \u001b[0;36mpandas.index.IndexEngine.get_loc (pandas\\index.c:4279)\u001b[0;34m()\u001b[0m\n",
      "\u001b[0;32mpandas\\src\\hashtable_class_helper.pxi\u001b[0m in \u001b[0;36mpandas.hashtable.Int64HashTable.get_item (pandas\\hashtable.c:8543)\u001b[0;34m()\u001b[0m\n",
      "\u001b[0;31mTypeError\u001b[0m: an integer is required",
      "\nDuring handling of the above exception, another exception occurred:\n",
      "\u001b[0;31mKeyError\u001b[0m                                  Traceback (most recent call last)",
      "\u001b[0;32mE:\\ProgramData\\Anaconda3\\lib\\site-packages\\pandas\\indexes\\base.py\u001b[0m in \u001b[0;36mget_loc\u001b[0;34m(self, key, method, tolerance)\u001b[0m\n\u001b[1;32m   2133\u001b[0m             \u001b[1;32mtry\u001b[0m\u001b[1;33m:\u001b[0m\u001b[1;33m\u001b[0m\u001b[0m\n\u001b[0;32m-> 2134\u001b[0;31m                 \u001b[1;32mreturn\u001b[0m \u001b[0mself\u001b[0m\u001b[1;33m.\u001b[0m\u001b[0m_engine\u001b[0m\u001b[1;33m.\u001b[0m\u001b[0mget_loc\u001b[0m\u001b[1;33m(\u001b[0m\u001b[0mkey\u001b[0m\u001b[1;33m)\u001b[0m\u001b[1;33m\u001b[0m\u001b[0m\n\u001b[0m\u001b[1;32m   2135\u001b[0m             \u001b[1;32mexcept\u001b[0m \u001b[0mKeyError\u001b[0m\u001b[1;33m:\u001b[0m\u001b[1;33m\u001b[0m\u001b[0m\n",
      "\u001b[0;32mpandas\\index.pyx\u001b[0m in \u001b[0;36mpandas.index.IndexEngine.get_loc (pandas\\index.c:4433)\u001b[0;34m()\u001b[0m\n",
      "\u001b[0;32mpandas\\index.pyx\u001b[0m in \u001b[0;36mpandas.index.IndexEngine.get_loc (pandas\\index.c:4363)\u001b[0;34m()\u001b[0m\n",
      "\u001b[0;31mKeyError\u001b[0m: 'mean'",
      "\nDuring handling of the above exception, another exception occurred:\n",
      "\u001b[0;31mTypeError\u001b[0m                                 Traceback (most recent call last)",
      "\u001b[0;32mpandas\\index.pyx\u001b[0m in \u001b[0;36mpandas.index.IndexEngine.get_loc (pandas\\index.c:4279)\u001b[0;34m()\u001b[0m\n",
      "\u001b[0;32mpandas\\src\\hashtable_class_helper.pxi\u001b[0m in \u001b[0;36mpandas.hashtable.Int64HashTable.get_item (pandas\\hashtable.c:8543)\u001b[0;34m()\u001b[0m\n",
      "\u001b[0;31mTypeError\u001b[0m: an integer is required",
      "\nDuring handling of the above exception, another exception occurred:\n",
      "\u001b[0;31mKeyError\u001b[0m                                  Traceback (most recent call last)",
      "\u001b[0;32m<ipython-input-23-9683e6870858>\u001b[0m in \u001b[0;36m<module>\u001b[0;34m()\u001b[0m\n\u001b[0;32m----> 1\u001b[0;31m \u001b[0ms\u001b[0m\u001b[1;33m[\u001b[0m\u001b[1;34m\"mean\"\u001b[0m\u001b[1;33m]\u001b[0m\u001b[1;33m\u001b[0m\u001b[0m\n\u001b[0m",
      "\u001b[0;32mE:\\ProgramData\\Anaconda3\\lib\\site-packages\\pandas\\core\\frame.py\u001b[0m in \u001b[0;36m__getitem__\u001b[0;34m(self, key)\u001b[0m\n\u001b[1;32m   2057\u001b[0m             \u001b[1;32mreturn\u001b[0m \u001b[0mself\u001b[0m\u001b[1;33m.\u001b[0m\u001b[0m_getitem_multilevel\u001b[0m\u001b[1;33m(\u001b[0m\u001b[0mkey\u001b[0m\u001b[1;33m)\u001b[0m\u001b[1;33m\u001b[0m\u001b[0m\n\u001b[1;32m   2058\u001b[0m         \u001b[1;32melse\u001b[0m\u001b[1;33m:\u001b[0m\u001b[1;33m\u001b[0m\u001b[0m\n\u001b[0;32m-> 2059\u001b[0;31m             \u001b[1;32mreturn\u001b[0m \u001b[0mself\u001b[0m\u001b[1;33m.\u001b[0m\u001b[0m_getitem_column\u001b[0m\u001b[1;33m(\u001b[0m\u001b[0mkey\u001b[0m\u001b[1;33m)\u001b[0m\u001b[1;33m\u001b[0m\u001b[0m\n\u001b[0m\u001b[1;32m   2060\u001b[0m \u001b[1;33m\u001b[0m\u001b[0m\n\u001b[1;32m   2061\u001b[0m     \u001b[1;32mdef\u001b[0m \u001b[0m_getitem_column\u001b[0m\u001b[1;33m(\u001b[0m\u001b[0mself\u001b[0m\u001b[1;33m,\u001b[0m \u001b[0mkey\u001b[0m\u001b[1;33m)\u001b[0m\u001b[1;33m:\u001b[0m\u001b[1;33m\u001b[0m\u001b[0m\n",
      "\u001b[0;32mE:\\ProgramData\\Anaconda3\\lib\\site-packages\\pandas\\core\\frame.py\u001b[0m in \u001b[0;36m_getitem_column\u001b[0;34m(self, key)\u001b[0m\n\u001b[1;32m   2064\u001b[0m         \u001b[1;31m# get column\u001b[0m\u001b[1;33m\u001b[0m\u001b[1;33m\u001b[0m\u001b[0m\n\u001b[1;32m   2065\u001b[0m         \u001b[1;32mif\u001b[0m \u001b[0mself\u001b[0m\u001b[1;33m.\u001b[0m\u001b[0mcolumns\u001b[0m\u001b[1;33m.\u001b[0m\u001b[0mis_unique\u001b[0m\u001b[1;33m:\u001b[0m\u001b[1;33m\u001b[0m\u001b[0m\n\u001b[0;32m-> 2066\u001b[0;31m             \u001b[1;32mreturn\u001b[0m \u001b[0mself\u001b[0m\u001b[1;33m.\u001b[0m\u001b[0m_get_item_cache\u001b[0m\u001b[1;33m(\u001b[0m\u001b[0mkey\u001b[0m\u001b[1;33m)\u001b[0m\u001b[1;33m\u001b[0m\u001b[0m\n\u001b[0m\u001b[1;32m   2067\u001b[0m \u001b[1;33m\u001b[0m\u001b[0m\n\u001b[1;32m   2068\u001b[0m         \u001b[1;31m# duplicate columns & possible reduce dimensionality\u001b[0m\u001b[1;33m\u001b[0m\u001b[1;33m\u001b[0m\u001b[0m\n",
      "\u001b[0;32mE:\\ProgramData\\Anaconda3\\lib\\site-packages\\pandas\\core\\generic.py\u001b[0m in \u001b[0;36m_get_item_cache\u001b[0;34m(self, item)\u001b[0m\n\u001b[1;32m   1384\u001b[0m         \u001b[0mres\u001b[0m \u001b[1;33m=\u001b[0m \u001b[0mcache\u001b[0m\u001b[1;33m.\u001b[0m\u001b[0mget\u001b[0m\u001b[1;33m(\u001b[0m\u001b[0mitem\u001b[0m\u001b[1;33m)\u001b[0m\u001b[1;33m\u001b[0m\u001b[0m\n\u001b[1;32m   1385\u001b[0m         \u001b[1;32mif\u001b[0m \u001b[0mres\u001b[0m \u001b[1;32mis\u001b[0m \u001b[1;32mNone\u001b[0m\u001b[1;33m:\u001b[0m\u001b[1;33m\u001b[0m\u001b[0m\n\u001b[0;32m-> 1386\u001b[0;31m             \u001b[0mvalues\u001b[0m \u001b[1;33m=\u001b[0m \u001b[0mself\u001b[0m\u001b[1;33m.\u001b[0m\u001b[0m_data\u001b[0m\u001b[1;33m.\u001b[0m\u001b[0mget\u001b[0m\u001b[1;33m(\u001b[0m\u001b[0mitem\u001b[0m\u001b[1;33m)\u001b[0m\u001b[1;33m\u001b[0m\u001b[0m\n\u001b[0m\u001b[1;32m   1387\u001b[0m             \u001b[0mres\u001b[0m \u001b[1;33m=\u001b[0m \u001b[0mself\u001b[0m\u001b[1;33m.\u001b[0m\u001b[0m_box_item_values\u001b[0m\u001b[1;33m(\u001b[0m\u001b[0mitem\u001b[0m\u001b[1;33m,\u001b[0m \u001b[0mvalues\u001b[0m\u001b[1;33m)\u001b[0m\u001b[1;33m\u001b[0m\u001b[0m\n\u001b[1;32m   1388\u001b[0m             \u001b[0mcache\u001b[0m\u001b[1;33m[\u001b[0m\u001b[0mitem\u001b[0m\u001b[1;33m]\u001b[0m \u001b[1;33m=\u001b[0m \u001b[0mres\u001b[0m\u001b[1;33m\u001b[0m\u001b[0m\n",
      "\u001b[0;32mE:\\ProgramData\\Anaconda3\\lib\\site-packages\\pandas\\core\\internals.py\u001b[0m in \u001b[0;36mget\u001b[0;34m(self, item, fastpath)\u001b[0m\n\u001b[1;32m   3541\u001b[0m \u001b[1;33m\u001b[0m\u001b[0m\n\u001b[1;32m   3542\u001b[0m             \u001b[1;32mif\u001b[0m \u001b[1;32mnot\u001b[0m \u001b[0misnull\u001b[0m\u001b[1;33m(\u001b[0m\u001b[0mitem\u001b[0m\u001b[1;33m)\u001b[0m\u001b[1;33m:\u001b[0m\u001b[1;33m\u001b[0m\u001b[0m\n\u001b[0;32m-> 3543\u001b[0;31m                 \u001b[0mloc\u001b[0m \u001b[1;33m=\u001b[0m \u001b[0mself\u001b[0m\u001b[1;33m.\u001b[0m\u001b[0mitems\u001b[0m\u001b[1;33m.\u001b[0m\u001b[0mget_loc\u001b[0m\u001b[1;33m(\u001b[0m\u001b[0mitem\u001b[0m\u001b[1;33m)\u001b[0m\u001b[1;33m\u001b[0m\u001b[0m\n\u001b[0m\u001b[1;32m   3544\u001b[0m             \u001b[1;32melse\u001b[0m\u001b[1;33m:\u001b[0m\u001b[1;33m\u001b[0m\u001b[0m\n\u001b[1;32m   3545\u001b[0m                 \u001b[0mindexer\u001b[0m \u001b[1;33m=\u001b[0m \u001b[0mnp\u001b[0m\u001b[1;33m.\u001b[0m\u001b[0marange\u001b[0m\u001b[1;33m(\u001b[0m\u001b[0mlen\u001b[0m\u001b[1;33m(\u001b[0m\u001b[0mself\u001b[0m\u001b[1;33m.\u001b[0m\u001b[0mitems\u001b[0m\u001b[1;33m)\u001b[0m\u001b[1;33m)\u001b[0m\u001b[1;33m[\u001b[0m\u001b[0misnull\u001b[0m\u001b[1;33m(\u001b[0m\u001b[0mself\u001b[0m\u001b[1;33m.\u001b[0m\u001b[0mitems\u001b[0m\u001b[1;33m)\u001b[0m\u001b[1;33m]\u001b[0m\u001b[1;33m\u001b[0m\u001b[0m\n",
      "\u001b[0;32mE:\\ProgramData\\Anaconda3\\lib\\site-packages\\pandas\\indexes\\base.py\u001b[0m in \u001b[0;36mget_loc\u001b[0;34m(self, key, method, tolerance)\u001b[0m\n\u001b[1;32m   2134\u001b[0m                 \u001b[1;32mreturn\u001b[0m \u001b[0mself\u001b[0m\u001b[1;33m.\u001b[0m\u001b[0m_engine\u001b[0m\u001b[1;33m.\u001b[0m\u001b[0mget_loc\u001b[0m\u001b[1;33m(\u001b[0m\u001b[0mkey\u001b[0m\u001b[1;33m)\u001b[0m\u001b[1;33m\u001b[0m\u001b[0m\n\u001b[1;32m   2135\u001b[0m             \u001b[1;32mexcept\u001b[0m \u001b[0mKeyError\u001b[0m\u001b[1;33m:\u001b[0m\u001b[1;33m\u001b[0m\u001b[0m\n\u001b[0;32m-> 2136\u001b[0;31m                 \u001b[1;32mreturn\u001b[0m \u001b[0mself\u001b[0m\u001b[1;33m.\u001b[0m\u001b[0m_engine\u001b[0m\u001b[1;33m.\u001b[0m\u001b[0mget_loc\u001b[0m\u001b[1;33m(\u001b[0m\u001b[0mself\u001b[0m\u001b[1;33m.\u001b[0m\u001b[0m_maybe_cast_indexer\u001b[0m\u001b[1;33m(\u001b[0m\u001b[0mkey\u001b[0m\u001b[1;33m)\u001b[0m\u001b[1;33m)\u001b[0m\u001b[1;33m\u001b[0m\u001b[0m\n\u001b[0m\u001b[1;32m   2137\u001b[0m \u001b[1;33m\u001b[0m\u001b[0m\n\u001b[1;32m   2138\u001b[0m         \u001b[0mindexer\u001b[0m \u001b[1;33m=\u001b[0m \u001b[0mself\u001b[0m\u001b[1;33m.\u001b[0m\u001b[0mget_indexer\u001b[0m\u001b[1;33m(\u001b[0m\u001b[1;33m[\u001b[0m\u001b[0mkey\u001b[0m\u001b[1;33m]\u001b[0m\u001b[1;33m,\u001b[0m \u001b[0mmethod\u001b[0m\u001b[1;33m=\u001b[0m\u001b[0mmethod\u001b[0m\u001b[1;33m,\u001b[0m \u001b[0mtolerance\u001b[0m\u001b[1;33m=\u001b[0m\u001b[0mtolerance\u001b[0m\u001b[1;33m)\u001b[0m\u001b[1;33m\u001b[0m\u001b[0m\n",
      "\u001b[0;32mpandas\\index.pyx\u001b[0m in \u001b[0;36mpandas.index.IndexEngine.get_loc (pandas\\index.c:4433)\u001b[0;34m()\u001b[0m\n",
      "\u001b[0;32mpandas\\index.pyx\u001b[0m in \u001b[0;36mpandas.index.IndexEngine.get_loc (pandas\\index.c:4363)\u001b[0;34m()\u001b[0m\n",
      "\u001b[0;31mKeyError\u001b[0m: 'mean'"
     ]
    }
   ],
   "source": [
    "0.037000\t-0.00250\t0.284000\t0.23750\t0.044500\t0.162000\t0.135500\t-0.03200\t-0.00200"
   ]
  },
  {
   "cell_type": "code",
   "execution_count": 69,
   "metadata": {
    "collapsed": false,
    "scrolled": true
   },
   "outputs": [
    {
     "data": {
      "image/png": "[encoded data removed]",
      "text/plain": [
       "<matplotlib.figure.Figure at 0x1f435227828>"
      ]
     },
     "metadata": {},
     "output_type": "display_data"
    }
   ],
   "source": [
    "import numpy as np\n",
    "fig = plt.figure(0)\n",
    "x = np.arange(10.0)\n",
    "y = np.sin(np.arange(10.0) / 20.0 * np.pi)\n",
    "\n",
    "plt.errorbar(x, y, yerr=0.1)\n",
    "\n",
    "y = np.sin(np.arange(10.0) / 20.0 * np.pi) + 1\n",
    "plt.errorbar(x, y, yerr=0.1, uplims=True)\n",
    "\n",
    "y = np.sin(np.arange(10.0) / 20.0 * np.pi) + 2\n",
    "upperlimits = np.array([1, 0] * 5)\n",
    "lowerlimits = np.array([0, 1] * 5)\n",
    "plt.errorbar(x, y, yerr=0.1,uplims=upperlimits, lolims=lowerlimits)\n",
    "\n",
    "plt.xlim(-1, 10)\n",
    "plt.show()"
   ]
  },
  {
   "cell_type": "code",
   "execution_count": 46,
   "metadata": {
    "collapsed": false
   },
   "outputs": [
    {
     "data": {
      "image/png": "[encoded data removed]",
      "text/plain": [
       "<matplotlib.figure.Figure at 0x1f434b0a240>"
      ]
     },
     "metadata": {},
     "output_type": "display_data"
    }
   ],
   "source": [
    "x = np.linspace(0, 10, 50) \n",
    "dy = 0.8 \n",
    "y = np.sin(x) + dy * np.random.randn(50) \n",
    "\n",
    "plt.errorbar(x, y, yerr=dy, fmt='.k'); \n",
    "plt.show()"
   ]
  },
  {
   "cell_type": "code",
   "execution_count": 49,
   "metadata": {
    "collapsed": true
   },
   "outputs": [],
   "source": [
    "fig,ax = plt.subplots()"
   ]
  },
  {
   "cell_type": "code",
   "execution_count": 57,
   "metadata": {
    "collapsed": false
   },
   "outputs": [
    {
     "ename": "AttributeError",
     "evalue": "Unknown property elinewidth",
     "output_type": "error",
     "traceback": [
      "\u001b[0;31m---------------------------------------------------------------------------\u001b[0m",
      "\u001b[0;31mAttributeError\u001b[0m                            Traceback (most recent call last)",
      "\u001b[0;32m<ipython-input-57-3d597d55fa0f>\u001b[0m in \u001b[0;36m<module>\u001b[0;34m()\u001b[0m\n\u001b[0;32m----> 1\u001b[0;31m \u001b[0mplt\u001b[0m\u001b[1;33m.\u001b[0m\u001b[0mbar\u001b[0m\u001b[1;33m(\u001b[0m\u001b[0mrange\u001b[0m\u001b[1;33m(\u001b[0m\u001b[0mlen\u001b[0m\u001b[1;33m(\u001b[0m\u001b[0mnum_list\u001b[0m\u001b[1;33m)\u001b[0m\u001b[1;33m)\u001b[0m\u001b[1;33m,\u001b[0m \u001b[0mnum_list\u001b[0m\u001b[1;33m,\u001b[0m\u001b[0myerr\u001b[0m \u001b[1;33m=\u001b[0m \u001b[1;33m[\u001b[0m\u001b[1;36m1\u001b[0m\u001b[1;33m,\u001b[0m\u001b[1;36m1\u001b[0m\u001b[1;33m,\u001b[0m\u001b[1;36m1\u001b[0m\u001b[1;33m,\u001b[0m\u001b[1;36m1\u001b[0m\u001b[1;33m,\u001b[0m\u001b[1;36m1\u001b[0m\u001b[1;33m,\u001b[0m\u001b[1;36m1\u001b[0m\u001b[1;33m,\u001b[0m\u001b[1;36m1\u001b[0m\u001b[1;33m,\u001b[0m\u001b[1;36m1\u001b[0m\u001b[1;33m,\u001b[0m\u001b[1;36m1\u001b[0m\u001b[1;33m]\u001b[0m\u001b[1;33m,\u001b[0m\u001b[0melinewidth\u001b[0m\u001b[1;33m=\u001b[0m\u001b[1;36m2\u001b[0m\u001b[1;33m,\u001b[0m\u001b[0mtick_label\u001b[0m\u001b[1;33m=\u001b[0m\u001b[0mname_list\u001b[0m\u001b[1;33m,\u001b[0m\u001b[0mcolor\u001b[0m\u001b[1;33m=\u001b[0m\u001b[1;33m[\u001b[0m\u001b[1;34m'c'\u001b[0m\u001b[1;33m,\u001b[0m\u001b[1;34m'c'\u001b[0m\u001b[1;33m,\u001b[0m\u001b[1;34m'seagreen'\u001b[0m\u001b[1;33m,\u001b[0m\u001b[1;34m'seagreen'\u001b[0m\u001b[1;33m,\u001b[0m\u001b[1;34m'c'\u001b[0m\u001b[1;33m,\u001b[0m\u001b[1;34m'seagreen'\u001b[0m\u001b[1;33m,\u001b[0m\u001b[1;34m'seagreen'\u001b[0m\u001b[1;33m,\u001b[0m\u001b[1;34m'c'\u001b[0m\u001b[1;33m,\u001b[0m\u001b[1;34m'c'\u001b[0m\u001b[1;33m]\u001b[0m\u001b[1;33m)\u001b[0m\u001b[1;33m\u001b[0m\u001b[0m\n\u001b[0m\u001b[1;32m      2\u001b[0m \u001b[0mplt\u001b[0m\u001b[1;33m.\u001b[0m\u001b[0mshow\u001b[0m\u001b[1;33m(\u001b[0m\u001b[1;33m)\u001b[0m\u001b[1;33m\u001b[0m\u001b[0m\n\u001b[1;32m      3\u001b[0m \u001b[1;33m\u001b[0m\u001b[0m\n\u001b[1;32m      4\u001b[0m \u001b[1;33m\u001b[0m\u001b[0m\n\u001b[1;32m      5\u001b[0m \u001b[1;33m\u001b[0m\u001b[0m\n",
      "\u001b[0;32mE:\\ProgramData\\Anaconda3\\lib\\site-packages\\matplotlib\\pyplot.py\u001b[0m in \u001b[0;36mbar\u001b[0;34m(left, height, width, bottom, hold, data, **kwargs)\u001b[0m\n\u001b[1;32m   2703\u001b[0m     \u001b[1;32mtry\u001b[0m\u001b[1;33m:\u001b[0m\u001b[1;33m\u001b[0m\u001b[0m\n\u001b[1;32m   2704\u001b[0m         ret = ax.bar(left, height, width=width, bottom=bottom, data=data,\n\u001b[0;32m-> 2705\u001b[0;31m                      **kwargs)\n\u001b[0m\u001b[1;32m   2706\u001b[0m     \u001b[1;32mfinally\u001b[0m\u001b[1;33m:\u001b[0m\u001b[1;33m\u001b[0m\u001b[0m\n\u001b[1;32m   2707\u001b[0m         \u001b[0max\u001b[0m\u001b[1;33m.\u001b[0m\u001b[0m_hold\u001b[0m \u001b[1;33m=\u001b[0m \u001b[0mwashold\u001b[0m\u001b[1;33m\u001b[0m\u001b[0m\n",
      "\u001b[0;32mE:\\ProgramData\\Anaconda3\\lib\\site-packages\\matplotlib\\__init__.py\u001b[0m in \u001b[0;36minner\u001b[0;34m(ax, *args, **kwargs)\u001b[0m\n\u001b[1;32m   1889\u001b[0m                     warnings.warn(msg % (label_namer, func.__name__),\n\u001b[1;32m   1890\u001b[0m                                   RuntimeWarning, stacklevel=2)\n\u001b[0;32m-> 1891\u001b[0;31m             \u001b[1;32mreturn\u001b[0m \u001b[0mfunc\u001b[0m\u001b[1;33m(\u001b[0m\u001b[0max\u001b[0m\u001b[1;33m,\u001b[0m \u001b[1;33m*\u001b[0m\u001b[0margs\u001b[0m\u001b[1;33m,\u001b[0m \u001b[1;33m**\u001b[0m\u001b[0mkwargs\u001b[0m\u001b[1;33m)\u001b[0m\u001b[1;33m\u001b[0m\u001b[0m\n\u001b[0m\u001b[1;32m   1892\u001b[0m         \u001b[0mpre_doc\u001b[0m \u001b[1;33m=\u001b[0m \u001b[0minner\u001b[0m\u001b[1;33m.\u001b[0m\u001b[0m__doc__\u001b[0m\u001b[1;33m\u001b[0m\u001b[0m\n\u001b[1;32m   1893\u001b[0m         \u001b[1;32mif\u001b[0m \u001b[0mpre_doc\u001b[0m \u001b[1;32mis\u001b[0m \u001b[1;32mNone\u001b[0m\u001b[1;33m:\u001b[0m\u001b[1;33m\u001b[0m\u001b[0m\n",
      "\u001b[0;32mE:\\ProgramData\\Anaconda3\\lib\\site-packages\\matplotlib\\axes\\_axes.py\u001b[0m in \u001b[0;36mbar\u001b[0;34m(self, left, height, width, bottom, **kwargs)\u001b[0m\n\u001b[1;32m   2126\u001b[0m                 \u001b[0mlabel\u001b[0m\u001b[1;33m=\u001b[0m\u001b[1;34m'_nolegend_'\u001b[0m\u001b[1;33m,\u001b[0m\u001b[1;33m\u001b[0m\u001b[0m\n\u001b[1;32m   2127\u001b[0m                 )\n\u001b[0;32m-> 2128\u001b[0;31m             \u001b[0mr\u001b[0m\u001b[1;33m.\u001b[0m\u001b[0mupdate\u001b[0m\u001b[1;33m(\u001b[0m\u001b[0mkwargs\u001b[0m\u001b[1;33m)\u001b[0m\u001b[1;33m\u001b[0m\u001b[0m\n\u001b[0m\u001b[1;32m   2129\u001b[0m             \u001b[0mr\u001b[0m\u001b[1;33m.\u001b[0m\u001b[0mget_path\u001b[0m\u001b[1;33m(\u001b[0m\u001b[1;33m)\u001b[0m\u001b[1;33m.\u001b[0m\u001b[0m_interpolation_steps\u001b[0m \u001b[1;33m=\u001b[0m \u001b[1;36m100\u001b[0m\u001b[1;33m\u001b[0m\u001b[0m\n\u001b[1;32m   2130\u001b[0m             \u001b[1;32mif\u001b[0m \u001b[0morientation\u001b[0m \u001b[1;33m==\u001b[0m \u001b[1;34m'vertical'\u001b[0m\u001b[1;33m:\u001b[0m\u001b[1;33m\u001b[0m\u001b[0m\n",
      "\u001b[0;32mE:\\ProgramData\\Anaconda3\\lib\\site-packages\\matplotlib\\artist.py\u001b[0m in \u001b[0;36mupdate\u001b[0;34m(self, props)\u001b[0m\n\u001b[1;32m    883\u001b[0m         \u001b[1;32mtry\u001b[0m\u001b[1;33m:\u001b[0m\u001b[1;33m\u001b[0m\u001b[0m\n\u001b[1;32m    884\u001b[0m             ret = [_update_property(self, k, v)\n\u001b[0;32m--> 885\u001b[0;31m                    for k, v in props.items()]\n\u001b[0m\u001b[1;32m    886\u001b[0m         \u001b[1;32mfinally\u001b[0m\u001b[1;33m:\u001b[0m\u001b[1;33m\u001b[0m\u001b[0m\n\u001b[1;32m    887\u001b[0m             \u001b[0mself\u001b[0m\u001b[1;33m.\u001b[0m\u001b[0meventson\u001b[0m \u001b[1;33m=\u001b[0m \u001b[0mstore\u001b[0m\u001b[1;33m\u001b[0m\u001b[0m\n",
      "\u001b[0;32mE:\\ProgramData\\Anaconda3\\lib\\site-packages\\matplotlib\\artist.py\u001b[0m in \u001b[0;36m<listcomp>\u001b[0;34m(.0)\u001b[0m\n\u001b[1;32m    883\u001b[0m         \u001b[1;32mtry\u001b[0m\u001b[1;33m:\u001b[0m\u001b[1;33m\u001b[0m\u001b[0m\n\u001b[1;32m    884\u001b[0m             ret = [_update_property(self, k, v)\n\u001b[0;32m--> 885\u001b[0;31m                    for k, v in props.items()]\n\u001b[0m\u001b[1;32m    886\u001b[0m         \u001b[1;32mfinally\u001b[0m\u001b[1;33m:\u001b[0m\u001b[1;33m\u001b[0m\u001b[0m\n\u001b[1;32m    887\u001b[0m             \u001b[0mself\u001b[0m\u001b[1;33m.\u001b[0m\u001b[0meventson\u001b[0m \u001b[1;33m=\u001b[0m \u001b[0mstore\u001b[0m\u001b[1;33m\u001b[0m\u001b[0m\n",
      "\u001b[0;32mE:\\ProgramData\\Anaconda3\\lib\\site-packages\\matplotlib\\artist.py\u001b[0m in \u001b[0;36m_update_property\u001b[0;34m(self, k, v)\u001b[0m\n\u001b[1;32m    876\u001b[0m                 \u001b[0mfunc\u001b[0m \u001b[1;33m=\u001b[0m \u001b[0mgetattr\u001b[0m\u001b[1;33m(\u001b[0m\u001b[0mself\u001b[0m\u001b[1;33m,\u001b[0m \u001b[1;34m'set_'\u001b[0m \u001b[1;33m+\u001b[0m \u001b[0mk\u001b[0m\u001b[1;33m,\u001b[0m \u001b[1;32mNone\u001b[0m\u001b[1;33m)\u001b[0m\u001b[1;33m\u001b[0m\u001b[0m\n\u001b[1;32m    877\u001b[0m                 \u001b[1;32mif\u001b[0m \u001b[0mfunc\u001b[0m \u001b[1;32mis\u001b[0m \u001b[1;32mNone\u001b[0m \u001b[1;32mor\u001b[0m \u001b[1;32mnot\u001b[0m \u001b[0msix\u001b[0m\u001b[1;33m.\u001b[0m\u001b[0mcallable\u001b[0m\u001b[1;33m(\u001b[0m\u001b[0mfunc\u001b[0m\u001b[1;33m)\u001b[0m\u001b[1;33m:\u001b[0m\u001b[1;33m\u001b[0m\u001b[0m\n\u001b[0;32m--> 878\u001b[0;31m                     \u001b[1;32mraise\u001b[0m \u001b[0mAttributeError\u001b[0m\u001b[1;33m(\u001b[0m\u001b[1;34m'Unknown property %s'\u001b[0m \u001b[1;33m%\u001b[0m \u001b[0mk\u001b[0m\u001b[1;33m)\u001b[0m\u001b[1;33m\u001b[0m\u001b[0m\n\u001b[0m\u001b[1;32m    879\u001b[0m                 \u001b[1;32mreturn\u001b[0m \u001b[0mfunc\u001b[0m\u001b[1;33m(\u001b[0m\u001b[0mv\u001b[0m\u001b[1;33m)\u001b[0m\u001b[1;33m\u001b[0m\u001b[0m\n\u001b[1;32m    880\u001b[0m \u001b[1;33m\u001b[0m\u001b[0m\n",
      "\u001b[0;31mAttributeError\u001b[0m: Unknown property elinewidth"
     ]
    }
   ],
   "source": [
    "plt.bar(range(len(num_list)), num_list,yerr = [1,1,1,1,1,1,1,1,1],,tick_label=name_list,color=['c','c','seagreen','seagreen','c','seagreen','seagreen','c','c'])\n",
    "plt.show()\n",
    "\n",
    "\n",
    "\n"
   ]
  },
  {
   "cell_type": "code",
   "execution_count": null,
   "metadata": {
    "collapsed": true
   },
   "outputs": [],
   "source": []
  }
 ],
 "metadata": {
  "kernelspec": {
   "display_name": "Python 3",
   "language": "python",
   "name": "python3"
  },
  "language_info": {
   "codemirror_mode": {
    "name": "ipython",
    "version": 3
   },
   "file_extension": ".py",
   "mimetype": "text/x-python",
   "name": "python",
   "nbconvert_exporter": "python",
   "pygments_lexer": "ipython3",
   "version": "3.6.0"
  }
 },
 "nbformat": 4,
 "nbformat_minor": 2
}
