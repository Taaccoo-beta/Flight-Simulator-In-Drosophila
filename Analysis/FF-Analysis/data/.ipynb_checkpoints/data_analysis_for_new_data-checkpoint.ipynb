{
 "cells": [
  {
   "cell_type": "markdown",
   "metadata": {},
   "source": [
    "# DTAT PROCESS FOR NEW DATA\n"
   ]
  },
  {
   "cell_type": "code",
   "execution_count": 41,
   "metadata": {
    "collapsed": false
   },
   "outputs": [
    {
     "name": "stdout",
     "output_type": "stream",
     "text": [
      "['F:\\\\data\\\\newData\\\\48378xTNTE-1.txt', 'F:\\\\data\\\\newData\\\\48378xTNTE-10.txt', 'F:\\\\data\\\\newData\\\\48378xTNTE-2.txt', 'F:\\\\data\\\\newData\\\\48378xTNTE-3.txt', 'F:\\\\data\\\\newData\\\\48378xTNTE-4.txt', 'F:\\\\data\\\\newData\\\\48378xTNTE-5.txt', 'F:\\\\data\\\\newData\\\\48378xTNTE-6.txt', 'F:\\\\data\\\\newData\\\\48378xTNTE-7.txt', 'F:\\\\data\\\\newData\\\\48378xTNTE-8.txt', 'F:\\\\data\\\\newData\\\\48378xTNTE-9.txt']\n"
     ]
    }
   ],
   "source": [
    "import os\n",
    "from os.path import join\n",
    "AllFile = []\n",
    "dest = \"F:\\\\data\\\\newData\"\n",
    "for root, dirs, files in os.walk( dest ):\n",
    "    for OneFileName in files :\n",
    "        OneFullFileName = join( root, OneFileName )\n",
    "        AllFile.append(OneFullFileName)\n",
    "    print(AllFile)"
   ]
  },
  {
   "cell_type": "code",
   "execution_count": 42,
   "metadata": {
    "collapsed": true
   },
   "outputs": [],
   "source": [
    "# firstData = []\n",
    "secondData = []\n",
    "# for i in AllFile:\n",
    "#     if(len(i)==26):\n",
    "#         firstData.append(i)\n",
    "#     else:\n",
    "#         secondData.append(i)\n",
    "for i in AllFile:\n",
    "    secondData.append(i)"
   ]
  },
  {
   "cell_type": "code",
   "execution_count": 43,
   "metadata": {
    "collapsed": false
   },
   "outputs": [],
   "source": [
    "# firstData"
   ]
  },
  {
   "cell_type": "code",
   "execution_count": 44,
   "metadata": {
    "collapsed": false
   },
   "outputs": [
    {
     "data": {
      "text/plain": [
       "['F:\\\\data\\\\newData\\\\48378xTNTE-1.txt',\n",
       " 'F:\\\\data\\\\newData\\\\48378xTNTE-10.txt',\n",
       " 'F:\\\\data\\\\newData\\\\48378xTNTE-2.txt',\n",
       " 'F:\\\\data\\\\newData\\\\48378xTNTE-3.txt',\n",
       " 'F:\\\\data\\\\newData\\\\48378xTNTE-4.txt',\n",
       " 'F:\\\\data\\\\newData\\\\48378xTNTE-5.txt',\n",
       " 'F:\\\\data\\\\newData\\\\48378xTNTE-6.txt',\n",
       " 'F:\\\\data\\\\newData\\\\48378xTNTE-7.txt',\n",
       " 'F:\\\\data\\\\newData\\\\48378xTNTE-8.txt',\n",
       " 'F:\\\\data\\\\newData\\\\48378xTNTE-9.txt']"
      ]
     },
     "execution_count": 44,
     "metadata": {},
     "output_type": "execute_result"
    }
   ],
   "source": [
    "secondData"
   ]
  },
  {
   "cell_type": "code",
   "execution_count": 45,
   "metadata": {
    "collapsed": true
   },
   "outputs": [],
   "source": [
    "# def read_dta(dta):\n",
    "#     \"\"\"read the dta file and return numerical array\"\"\"\n",
    "#     with open(dta) as f:\n",
    "#         newData = []\n",
    "#         data  = f.readlines()\n",
    "#         for i in data[6:]:\n",
    "#               newData.append(float(i[0:6]))\n",
    "#         return newData"
   ]
  },
  {
   "cell_type": "code",
   "execution_count": 46,
   "metadata": {
    "collapsed": false
   },
   "outputs": [],
   "source": [
    "# datatest = read_dta(secondData[1])"
   ]
  },
  {
   "cell_type": "code",
   "execution_count": 47,
   "metadata": {
    "collapsed": true
   },
   "outputs": [],
   "source": [
    "# def getPIValue(data):\n",
    "#     PIValue = []\n",
    "#     for j in range(9):\n",
    "#         upT = 0\n",
    "#         downT = 0\n",
    "#         for i in range(0+j*1200,1200+j*1200):\n",
    "#             if (data[i]>1488 and data[i]<2000) or (data[i]>2516 or data[i] <976):\n",
    "#                 upT+=1\n",
    "#             else:\n",
    "#                 downT+=1\n",
    "#         print(upT)\n",
    "#         print(downT)\n",
    "#         print(upT+downT)\n",
    "#         PIValue.append((upT-downT)/(upT+downT))\n",
    "#     return PIValue"
   ]
  },
  {
   "cell_type": "code",
   "execution_count": 48,
   "metadata": {
    "collapsed": false
   },
   "outputs": [],
   "source": [
    "# firstDataPIValue = []\n",
    "# for i in firstData:\n",
    "#     data = read_dta(i)\n",
    "#     PI = getPIValue(data)\n",
    "#     firstDataPIValue.append(PI)\n",
    "# print(firstDataPIValue)"
   ]
  },
  {
   "cell_type": "code",
   "execution_count": 49,
   "metadata": {
    "collapsed": false
   },
   "outputs": [],
   "source": [
    "# for i in range(9):\n",
    "#     firstDataPIValue[4][i] = -firstDataPIValue[4][i]\n",
    "    \n",
    "# for i in firstDataPIValue:\n",
    "#     print(i)"
   ]
  },
  {
   "cell_type": "code",
   "execution_count": 51,
   "metadata": {
    "collapsed": false
   },
   "outputs": [
    {
     "name": "stdout",
     "output_type": "stream",
     "text": [
      "[[0.16, -0.2, 0.69, 0.84, 0.19, 0.6, 0.71, 0.07, -0.02], [0.04, 0.18, 0.32, 0.12, 0.14, 0.12, 0.13, 0.06, 0.12], [0.13, -0.07, 0.5, 0.29, -0.09, 0.09, 0.77, 0.46, 0.09], [-0.24, 0.0, 0.07, 0.53, -0.19, 0.6, -0.08, 0.11, 0.39], [0.04, -0.07, 0.7, 0.63, -0.36, 0.68, 0.4, 0.17, 0.01], [0.0, -0.12, -0.08, 0.26, 0.09, -0.24, 0.01, 0.03, -0.37], [-0.23, -0.25, 0.03, 0.63, 0.01, 0.32, 0.22, 0.19, -0.37], [-0.05, -0.2, 0.55, 0.55, 0.37, 0.65, 0.14, -0.2, -0.12], [0.2, -0.11, 0.17, -0.25, 0.15, -0.2, 0.1, 0.14, 0.17], [-0.3, -0.17, 0.32, 0.15, -0.16, 0.21, 0.05, 0.27, 0.22]]\n"
     ]
    }
   ],
   "source": [
    "secondPIValue=[]\n",
    "for i in secondData:\n",
    "    temp = []\n",
    "    with open(i) as f:\n",
    "        newData = []\n",
    "        data  = f.readlines()\n",
    "        for j in data[5][13:-2].split(\",\"):\n",
    "            temp.append(float(j))\n",
    "    secondPIValue.append(temp)\n",
    "    \n",
    "print(secondPIValue)\n",
    "            \n"
   ]
  },
  {
   "cell_type": "code",
   "execution_count": null,
   "metadata": {
    "collapsed": true
   },
   "outputs": [],
   "source": []
  },
  {
   "cell_type": "code",
   "execution_count": 12,
   "metadata": {
    "collapsed": false
   },
   "outputs": [
    {
     "data": {
      "text/plain": [
       "[]"
      ]
     },
     "execution_count": 12,
     "metadata": {},
     "output_type": "execute_result"
    }
   ],
   "source": [
    "# firstDataPIValue"
   ]
  },
  {
   "cell_type": "code",
   "execution_count": 53,
   "metadata": {
    "collapsed": true
   },
   "outputs": [],
   "source": [
    "firstDataPIValue=[]\n",
    "for i in secondPIValue:\n",
    "    firstDataPIValue.append(i)\n"
   ]
  },
  {
   "cell_type": "code",
   "execution_count": 54,
   "metadata": {
    "collapsed": false
   },
   "outputs": [
    {
     "data": {
      "text/plain": [
       "[[0.16, -0.2, 0.69, 0.84, 0.19, 0.6, 0.71, 0.07, -0.02],\n",
       " [0.04, 0.18, 0.32, 0.12, 0.14, 0.12, 0.13, 0.06, 0.12],\n",
       " [0.13, -0.07, 0.5, 0.29, -0.09, 0.09, 0.77, 0.46, 0.09],\n",
       " [-0.24, 0.0, 0.07, 0.53, -0.19, 0.6, -0.08, 0.11, 0.39],\n",
       " [0.04, -0.07, 0.7, 0.63, -0.36, 0.68, 0.4, 0.17, 0.01],\n",
       " [0.0, -0.12, -0.08, 0.26, 0.09, -0.24, 0.01, 0.03, -0.37],\n",
       " [-0.23, -0.25, 0.03, 0.63, 0.01, 0.32, 0.22, 0.19, -0.37],\n",
       " [-0.05, -0.2, 0.55, 0.55, 0.37, 0.65, 0.14, -0.2, -0.12],\n",
       " [0.2, -0.11, 0.17, -0.25, 0.15, -0.2, 0.1, 0.14, 0.17],\n",
       " [-0.3, -0.17, 0.32, 0.15, -0.16, 0.21, 0.05, 0.27, 0.22]]"
      ]
     },
     "execution_count": 54,
     "metadata": {},
     "output_type": "execute_result"
    }
   ],
   "source": [
    "firstDataPIValue"
   ]
  },
  {
   "cell_type": "code",
   "execution_count": 56,
   "metadata": {
    "collapsed": false
   },
   "outputs": [
    {
     "name": "stdout",
     "output_type": "stream",
     "text": [
      "[0.16, -0.2, 0.69, 0.84, 0.19, 0.6, 0.71, 0.07, -0.02]\n",
      "[0.04, 0.18, 0.32, 0.12, 0.14, 0.12, 0.13, 0.06, 0.12]\n",
      "[0.13, -0.07, 0.5, 0.29, -0.09, 0.09, 0.77, 0.46, 0.09]\n",
      "[-0.24, 0.0, 0.07, 0.53, -0.19, 0.6, -0.08, 0.11, 0.39]\n",
      "[0.04, -0.07, 0.7, 0.63, -0.36, 0.68, 0.4, 0.17, 0.01]\n",
      "[0.0, -0.12, -0.08, 0.26, 0.09, -0.24, 0.01, 0.03, -0.37]\n",
      "[-0.23, -0.25, 0.03, 0.63, 0.01, 0.32, 0.22, 0.19, -0.37]\n",
      "[-0.05, -0.2, 0.55, 0.55, 0.37, 0.65, 0.14, -0.2, -0.12]\n",
      "[0.2, -0.11, 0.17, -0.25, 0.15, -0.2, 0.1, 0.14, 0.17]\n",
      "[-0.3, -0.17, 0.32, 0.15, -0.16, 0.21, 0.05, 0.27, 0.22]\n"
     ]
    }
   ],
   "source": [
    "for i in firstDataPIValue:\n",
    "    print(i)"
   ]
  },
  {
   "cell_type": "code",
   "execution_count": 17,
   "metadata": {
    "collapsed": false
   },
   "outputs": [],
   "source": [
    "# for i in range(9):\n",
    "#     firstDataPIValue[18][i] = -firstDataPIValue[18][i]\n",
    "    \n",
    "    "
   ]
  },
  {
   "cell_type": "code",
   "execution_count": null,
   "metadata": {
    "collapsed": true
   },
   "outputs": [],
   "source": []
  },
  {
   "cell_type": "code",
   "execution_count": 57,
   "metadata": {
    "collapsed": false
   },
   "outputs": [
    {
     "data": {
      "text/html": [
       "<div>\n",
       "<table border=\"1\" class=\"dataframe\">\n",
       "  <thead>\n",
       "    <tr style=\"text-align: right;\">\n",
       "      <th></th>\n",
       "      <th>0</th>\n",
       "      <th>1</th>\n",
       "      <th>2</th>\n",
       "      <th>3</th>\n",
       "      <th>4</th>\n",
       "      <th>5</th>\n",
       "      <th>6</th>\n",
       "      <th>7</th>\n",
       "      <th>8</th>\n",
       "      <th>9</th>\n",
       "    </tr>\n",
       "  </thead>\n",
       "  <tbody>\n",
       "    <tr>\n",
       "      <th>0</th>\n",
       "      <td>0.16</td>\n",
       "      <td>0.04</td>\n",
       "      <td>0.13</td>\n",
       "      <td>-0.24</td>\n",
       "      <td>0.04</td>\n",
       "      <td>0.00</td>\n",
       "      <td>-0.23</td>\n",
       "      <td>-0.05</td>\n",
       "      <td>0.20</td>\n",
       "      <td>-0.30</td>\n",
       "    </tr>\n",
       "    <tr>\n",
       "      <th>1</th>\n",
       "      <td>-0.20</td>\n",
       "      <td>0.18</td>\n",
       "      <td>-0.07</td>\n",
       "      <td>0.00</td>\n",
       "      <td>-0.07</td>\n",
       "      <td>-0.12</td>\n",
       "      <td>-0.25</td>\n",
       "      <td>-0.20</td>\n",
       "      <td>-0.11</td>\n",
       "      <td>-0.17</td>\n",
       "    </tr>\n",
       "    <tr>\n",
       "      <th>2</th>\n",
       "      <td>0.69</td>\n",
       "      <td>0.32</td>\n",
       "      <td>0.50</td>\n",
       "      <td>0.07</td>\n",
       "      <td>0.70</td>\n",
       "      <td>-0.08</td>\n",
       "      <td>0.03</td>\n",
       "      <td>0.55</td>\n",
       "      <td>0.17</td>\n",
       "      <td>0.32</td>\n",
       "    </tr>\n",
       "    <tr>\n",
       "      <th>3</th>\n",
       "      <td>0.84</td>\n",
       "      <td>0.12</td>\n",
       "      <td>0.29</td>\n",
       "      <td>0.53</td>\n",
       "      <td>0.63</td>\n",
       "      <td>0.26</td>\n",
       "      <td>0.63</td>\n",
       "      <td>0.55</td>\n",
       "      <td>-0.25</td>\n",
       "      <td>0.15</td>\n",
       "    </tr>\n",
       "    <tr>\n",
       "      <th>4</th>\n",
       "      <td>0.19</td>\n",
       "      <td>0.14</td>\n",
       "      <td>-0.09</td>\n",
       "      <td>-0.19</td>\n",
       "      <td>-0.36</td>\n",
       "      <td>0.09</td>\n",
       "      <td>0.01</td>\n",
       "      <td>0.37</td>\n",
       "      <td>0.15</td>\n",
       "      <td>-0.16</td>\n",
       "    </tr>\n",
       "    <tr>\n",
       "      <th>5</th>\n",
       "      <td>0.60</td>\n",
       "      <td>0.12</td>\n",
       "      <td>0.09</td>\n",
       "      <td>0.60</td>\n",
       "      <td>0.68</td>\n",
       "      <td>-0.24</td>\n",
       "      <td>0.32</td>\n",
       "      <td>0.65</td>\n",
       "      <td>-0.20</td>\n",
       "      <td>0.21</td>\n",
       "    </tr>\n",
       "    <tr>\n",
       "      <th>6</th>\n",
       "      <td>0.71</td>\n",
       "      <td>0.13</td>\n",
       "      <td>0.77</td>\n",
       "      <td>-0.08</td>\n",
       "      <td>0.40</td>\n",
       "      <td>0.01</td>\n",
       "      <td>0.22</td>\n",
       "      <td>0.14</td>\n",
       "      <td>0.10</td>\n",
       "      <td>0.05</td>\n",
       "    </tr>\n",
       "    <tr>\n",
       "      <th>7</th>\n",
       "      <td>0.07</td>\n",
       "      <td>0.06</td>\n",
       "      <td>0.46</td>\n",
       "      <td>0.11</td>\n",
       "      <td>0.17</td>\n",
       "      <td>0.03</td>\n",
       "      <td>0.19</td>\n",
       "      <td>-0.20</td>\n",
       "      <td>0.14</td>\n",
       "      <td>0.27</td>\n",
       "    </tr>\n",
       "    <tr>\n",
       "      <th>8</th>\n",
       "      <td>-0.02</td>\n",
       "      <td>0.12</td>\n",
       "      <td>0.09</td>\n",
       "      <td>0.39</td>\n",
       "      <td>0.01</td>\n",
       "      <td>-0.37</td>\n",
       "      <td>-0.37</td>\n",
       "      <td>-0.12</td>\n",
       "      <td>0.17</td>\n",
       "      <td>0.22</td>\n",
       "    </tr>\n",
       "  </tbody>\n",
       "</table>\n",
       "</div>"
      ],
      "text/plain": [
       "      0     1     2     3     4     5     6     7     8     9\n",
       "0  0.16  0.04  0.13 -0.24  0.04  0.00 -0.23 -0.05  0.20 -0.30\n",
       "1 -0.20  0.18 -0.07  0.00 -0.07 -0.12 -0.25 -0.20 -0.11 -0.17\n",
       "2  0.69  0.32  0.50  0.07  0.70 -0.08  0.03  0.55  0.17  0.32\n",
       "3  0.84  0.12  0.29  0.53  0.63  0.26  0.63  0.55 -0.25  0.15\n",
       "4  0.19  0.14 -0.09 -0.19 -0.36  0.09  0.01  0.37  0.15 -0.16\n",
       "5  0.60  0.12  0.09  0.60  0.68 -0.24  0.32  0.65 -0.20  0.21\n",
       "6  0.71  0.13  0.77 -0.08  0.40  0.01  0.22  0.14  0.10  0.05\n",
       "7  0.07  0.06  0.46  0.11  0.17  0.03  0.19 -0.20  0.14  0.27\n",
       "8 -0.02  0.12  0.09  0.39  0.01 -0.37 -0.37 -0.12  0.17  0.22"
      ]
     },
     "execution_count": 57,
     "metadata": {},
     "output_type": "execute_result"
    }
   ],
   "source": [
    "import pandas as pd\n",
    "\n",
    "data = {i:firstDataPIValue[i] for i in range(len(firstDataPIValue))}\n",
    "pdData = pd.DataFrame(data)\n",
    "pdData"
   ]
  },
  {
   "cell_type": "code",
   "execution_count": 58,
   "metadata": {
    "collapsed": true
   },
   "outputs": [],
   "source": [
    "s = pdData.T.describe()"
   ]
  },
  {
   "cell_type": "code",
   "execution_count": 59,
   "metadata": {
    "collapsed": false
   },
   "outputs": [
    {
     "data": {
      "text/html": [
       "<div>\n",
       "<table border=\"1\" class=\"dataframe\">\n",
       "  <thead>\n",
       "    <tr style=\"text-align: right;\">\n",
       "      <th></th>\n",
       "      <th>0</th>\n",
       "      <th>1</th>\n",
       "      <th>2</th>\n",
       "      <th>3</th>\n",
       "      <th>4</th>\n",
       "      <th>5</th>\n",
       "      <th>6</th>\n",
       "      <th>7</th>\n",
       "      <th>8</th>\n",
       "    </tr>\n",
       "  </thead>\n",
       "  <tbody>\n",
       "    <tr>\n",
       "      <th>count</th>\n",
       "      <td>10.000000</td>\n",
       "      <td>10.000000</td>\n",
       "      <td>10.000000</td>\n",
       "      <td>10.000000</td>\n",
       "      <td>10.00000</td>\n",
       "      <td>10.000000</td>\n",
       "      <td>10.000000</td>\n",
       "      <td>10.000000</td>\n",
       "      <td>10.000000</td>\n",
       "    </tr>\n",
       "    <tr>\n",
       "      <th>mean</th>\n",
       "      <td>-0.025000</td>\n",
       "      <td>-0.101000</td>\n",
       "      <td>0.327000</td>\n",
       "      <td>0.375000</td>\n",
       "      <td>0.01500</td>\n",
       "      <td>0.283000</td>\n",
       "      <td>0.245000</td>\n",
       "      <td>0.130000</td>\n",
       "      <td>0.012000</td>\n",
       "    </tr>\n",
       "    <tr>\n",
       "      <th>std</th>\n",
       "      <td>0.177153</td>\n",
       "      <td>0.123868</td>\n",
       "      <td>0.277931</td>\n",
       "      <td>0.321049</td>\n",
       "      <td>0.21614</td>\n",
       "      <td>0.344901</td>\n",
       "      <td>0.290718</td>\n",
       "      <td>0.170489</td>\n",
       "      <td>0.244758</td>\n",
       "    </tr>\n",
       "    <tr>\n",
       "      <th>min</th>\n",
       "      <td>-0.300000</td>\n",
       "      <td>-0.250000</td>\n",
       "      <td>-0.080000</td>\n",
       "      <td>-0.250000</td>\n",
       "      <td>-0.36000</td>\n",
       "      <td>-0.240000</td>\n",
       "      <td>-0.080000</td>\n",
       "      <td>-0.200000</td>\n",
       "      <td>-0.370000</td>\n",
       "    </tr>\n",
       "    <tr>\n",
       "      <th>25%</th>\n",
       "      <td>-0.185000</td>\n",
       "      <td>-0.192500</td>\n",
       "      <td>0.095000</td>\n",
       "      <td>0.177500</td>\n",
       "      <td>-0.14250</td>\n",
       "      <td>0.097500</td>\n",
       "      <td>0.062500</td>\n",
       "      <td>0.062500</td>\n",
       "      <td>-0.095000</td>\n",
       "    </tr>\n",
       "    <tr>\n",
       "      <th>50%</th>\n",
       "      <td>0.020000</td>\n",
       "      <td>-0.115000</td>\n",
       "      <td>0.320000</td>\n",
       "      <td>0.410000</td>\n",
       "      <td>0.05000</td>\n",
       "      <td>0.265000</td>\n",
       "      <td>0.135000</td>\n",
       "      <td>0.125000</td>\n",
       "      <td>0.050000</td>\n",
       "    </tr>\n",
       "    <tr>\n",
       "      <th>75%</th>\n",
       "      <td>0.107500</td>\n",
       "      <td>-0.070000</td>\n",
       "      <td>0.537500</td>\n",
       "      <td>0.610000</td>\n",
       "      <td>0.14750</td>\n",
       "      <td>0.600000</td>\n",
       "      <td>0.355000</td>\n",
       "      <td>0.185000</td>\n",
       "      <td>0.157500</td>\n",
       "    </tr>\n",
       "    <tr>\n",
       "      <th>max</th>\n",
       "      <td>0.200000</td>\n",
       "      <td>0.180000</td>\n",
       "      <td>0.700000</td>\n",
       "      <td>0.840000</td>\n",
       "      <td>0.37000</td>\n",
       "      <td>0.680000</td>\n",
       "      <td>0.770000</td>\n",
       "      <td>0.460000</td>\n",
       "      <td>0.390000</td>\n",
       "    </tr>\n",
       "  </tbody>\n",
       "</table>\n",
       "</div>"
      ],
      "text/plain": [
       "               0          1          2          3         4          5  \\\n",
       "count  10.000000  10.000000  10.000000  10.000000  10.00000  10.000000   \n",
       "mean   -0.025000  -0.101000   0.327000   0.375000   0.01500   0.283000   \n",
       "std     0.177153   0.123868   0.277931   0.321049   0.21614   0.344901   \n",
       "min    -0.300000  -0.250000  -0.080000  -0.250000  -0.36000  -0.240000   \n",
       "25%    -0.185000  -0.192500   0.095000   0.177500  -0.14250   0.097500   \n",
       "50%     0.020000  -0.115000   0.320000   0.410000   0.05000   0.265000   \n",
       "75%     0.107500  -0.070000   0.537500   0.610000   0.14750   0.600000   \n",
       "max     0.200000   0.180000   0.700000   0.840000   0.37000   0.680000   \n",
       "\n",
       "               6          7          8  \n",
       "count  10.000000  10.000000  10.000000  \n",
       "mean    0.245000   0.130000   0.012000  \n",
       "std     0.290718   0.170489   0.244758  \n",
       "min    -0.080000  -0.200000  -0.370000  \n",
       "25%     0.062500   0.062500  -0.095000  \n",
       "50%     0.135000   0.125000   0.050000  \n",
       "75%     0.355000   0.185000   0.157500  \n",
       "max     0.770000   0.460000   0.390000  "
      ]
     },
     "execution_count": 59,
     "metadata": {},
     "output_type": "execute_result"
    }
   ],
   "source": [
    "s"
   ]
  },
  {
   "cell_type": "code",
   "execution_count": 60,
   "metadata": {
    "collapsed": false
   },
   "outputs": [
    {
     "data": {
      "image/png": "[encoded data removed]",
      "text/plain": [
       "<matplotlib.figure.Figure at 0x22d7084df60>"
      ]
     },
     "metadata": {},
     "output_type": "display_data"
    }
   ],
   "source": [
    "import matplotlib.pyplot as plt\n",
    "plt.figure(figsize=(10,8), dpi=80)\n",
    "name_list = ['test','test','tr','tr','test','tr','tr','test','test']\n",
    "num_list = s.loc[\"mean\"]\n",
    "yerr = s.loc[\"std\"]/np.sqrt(s.iloc[0,0])\n",
    "plt.bar(range(len(num_list)), num_list,tick_label=name_list,color=['c','c','seagreen','seagreen','c','seagreen','seagreen','c','c'])\n",
    "plt.xlabel(\"Sequence\")\n",
    "plt.ylabel(\"Performance Index\")\n",
    "plt.title(\"PI Figure\")\n",
    "plt.ylim(-0.6,0.8)\n",
    "#plt.errorbar([i for i in range(9)],num_list,yerr=yerr,fmt=\"b\",color=\"teal\")\n",
    "plt.errorbar([i for i in range(9)],num_list,yerr=yerr,ls='none',fillstyle='none',ms=9,mew=1.3,color='r')\n",
    "plt.grid(color=\"grey\",linewidth='0.1')\n",
    "plt.show()"
   ]
  },
  {
   "cell_type": "code",
   "execution_count": 61,
   "metadata": {
    "collapsed": false
   },
   "outputs": [
    {
     "data": {
      "image/png": "[encoded data removed]",
      "text/plain": [
       "<matplotlib.figure.Figure at 0x22d6fcba5c0>"
      ]
     },
     "metadata": {},
     "output_type": "display_data"
    }
   ],
   "source": [
    "import numpy as np\n",
    "fig = plt.figure(0)\n",
    "x = np.arange(10.0)\n",
    "y = np.sin(np.arange(10.0) / 20.0 * np.pi)\n",
    "\n",
    "plt.errorbar(x, y, yerr=0.1)\n",
    "\n",
    "y = np.sin(np.arange(10.0) / 20.0 * np.pi) + 1\n",
    "plt.errorbar(x, y, yerr=0.1, uplims=True)\n",
    "\n",
    "y = np.sin(np.arange(10.0) / 20.0 * np.pi) + 2\n",
    "upperlimits = np.array([1, 0] * 5)\n",
    "lowerlimits = np.array([0, 1] * 5)\n",
    "plt.errorbar(x, y, yerr=0.1, uplims=upperlimits, lolims=lowerlimits)\n",
    "\n",
    "plt.xlim(-1, 10)\n",
    "plt.show()"
   ]
  }
 ],
 "metadata": {
  "kernelspec": {
   "display_name": "Python 3",
   "language": "python",
   "name": "python3"
  },
  "language_info": {
   "codemirror_mode": {
    "name": "ipython",
    "version": 3
   },
   "file_extension": ".py",
   "mimetype": "text/x-python",
   "name": "python",
   "nbconvert_exporter": "python",
   "pygments_lexer": "ipython3",
   "version": "3.6.0"
  }
 },
 "nbformat": 4,
 "nbformat_minor": 2
}
