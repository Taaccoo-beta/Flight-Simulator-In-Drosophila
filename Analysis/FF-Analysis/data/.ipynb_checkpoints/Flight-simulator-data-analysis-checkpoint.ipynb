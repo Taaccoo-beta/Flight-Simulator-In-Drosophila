{
 "cells": [
  {
   "cell_type": "code",
   "execution_count": 3,
   "metadata": {},
   "outputs": [
    {
     "data": {
      "text/html": [
       "<script>\n",
       "code_show=true; \n",
       "function code_toggle() {\n",
       " if (code_show){\n",
       " $('div.input').hide();\n",
       " } else {\n",
       " $('div.input').show();\n",
       " }\n",
       " code_show = !code_show\n",
       "} \n",
       "$( document ).ready(code_toggle);\n",
       "</script>\n",
       "<form action=\"javascript:code_toggle()\"><input type=\"submit\" value=\"Click here to toggle on/off the raw code.\"></form>"
      ],
      "text/plain": [
       "<IPython.core.display.HTML object>"
      ]
     },
     "execution_count": 3,
     "metadata": {},
     "output_type": "execute_result"
    }
   ],
   "source": [
    "from IPython.display import HTML\n",
    "\n",
    "HTML('''<script>\n",
    "code_show=true; \n",
    "function code_toggle() {\n",
    " if (code_show){\n",
    " $('div.input').hide();\n",
    " } else {\n",
    " $('div.input').show();\n",
    " }\n",
    " code_show = !code_show\n",
    "} \n",
    "$( document ).ready(code_toggle);\n",
    "</script>\n",
    "<form action=\"javascript:code_toggle()\"><input type=\"submit\" value=\"Click here to toggle on/off the raw code.\"></form>''')"
   ]
  },
  {
   "cell_type": "markdown",
   "metadata": {},
   "source": [
    "## 飞行模拟器数据处理-老数据"
   ]
  },
  {
   "cell_type": "markdown",
   "metadata": {},
   "source": [
    "#### 读取inf文件，里面包含了各种数据说明"
   ]
  },
  {
   "cell_type": "code",
   "execution_count": 4,
   "metadata": {
    "collapsed": true
   },
   "outputs": [],
   "source": [
    "def b2i(bstr, s = 'h'):\n",
    "    \"\"\"convert byte string to numerical array\"\"\"    \n",
    "    import struct\n",
    "    return 'not even' if len(bstr)%2!=0 else [struct.unpack(s, \n",
    "           bstr[2*i:2*i+2])[0] for i in range(len(bstr)//2)]\n",
    "\n",
    "\n",
    "def read_inf(inf): \n",
    "    \"\"\"convert .INF to a dict, simple and enough to represent inf data 296\n",
    "    inf =    record\n",
    "    HeatedPattern  : char; # 0 1\n",
    "    fly            : string[20]; \n",
    "    date,DayTime   : string[40]; # 23-39, 64-77\n",
    "    remarks        : string[80]; \n",
    "    ExpType        : array[1..15] of str4; # 186-189 test, 191 4+1\n",
    "    duration      : array[1..15] of integer;\n",
    "    NofRecs,NofData,NofFiles: integer;\n",
    "    ['Â', 8, 'f', 'l', 'y', ' ', 'h', 'e', 'r', 'e', 0, 0, 0, 0, 0, 0, 0, 0, 0, 0, 0, 0, 20, 'M', 'o', 'n', 'd', 'a', 'y', ' ', '2', '1', ' ', 'A', 'p', 'r', 'i', 'l', ' ', '2', '0', '1', '4', 0, 0, 0, 0, 0, 0, 0, 0, 0, 0, 0, 0, 0, 0, 0, 0, 0, 0, 0, 0, 14, '2', '1', ' ', 'h', ' ', '4', '5', ' ', 'm', ' ', '4', '6', ' ', 's', 0, 0, 0, 0, 0, 0, 0, 0, 0, 0, 0, 0, 0, 0, 0, 0, 0, 0, 0, 0, 0, 0, 0, 0, 0, 0, 12, 'r', 'e', 'm', 'a', 'r', 'k', 's', ' ', 'h', 'e', 'r', 'e', 0, 0, 0, 0, 0, 0, 0, 0, 0, 0, 0, 0, 0, 0, 0, 0, 0, 0, 0, 0, 0, 0, 0, 0, 0, 0, 0, 0, 0, 0, 0, 0, 0, 0, 0, 0, 0, 0, 0, 0, 0, 0, 0, 0, 0, 0, 0, 0, 0, 0, 0, 0, 0, 0, 0, 0, 0, 0, 0, 0, 0, 0, 0, 0, 0, 0, 0, 0, 4, 't', 'e', 's', 't', 4, 't', 'e', 's', 't', 4, ' ', 't', 'r', ' ', 4, ' ', 't', 'r', ' ', 4, 't', 'e', 's', 't', 4, ' ', 't', 'r', ' ', 4, ' ', ' ', ' ', ' ', 4, 't', 'e', 's', 't', 4, 't', 'e', 's', 't', 4, ' ', ' ', ' ', ' ', 4, ' ', ' ', ' ', ' ', 4, ' ', ' ', ' ', ' ', 4, ' ', ' ', ' ', ' ', 4, ' ', ' ', ' ', ' ', 4, ' ', ' ', ' ', ' ', 15, 0, 30, 0, 60, 0, 'Z', 0, 'x', 0, 0, 0, 'x', 0, 'x', 0, 'x', 0, 0, 0, 0, 0, 0, 0, 0, 0, 0, 0, 0, 0, 2, 0, '4', 8, 2, 0]\n",
    "    ['Â', 8, 'f', 'l', 'y', ' ', 'h', 'e', 'r', 'e', 0, 0, 0, 0, 0, 0, 0, 0, 0, 0, 0, 0, 20, 'M', 'o', 'n', 'd', 'a', 'y', ' ', '2', '1', ' ', 'A', 'p', 'r', 'i', 'l', ' ', '2', '0', '1', '4', 0, 0, 0, 0, 0, 0, 0, 0, 0, 0, 0, 0, 0, 0, 0, 0, 0, 0, 0, 0, 14, '2', '1', ' ', 'h', ' ', '4', '9', ' ', 'm', ' ', '2', '5', ' ', 's', 0, 0, 0, 0, 0, 0, 0, 0, 0, 0, 0, 0, 0, 0, 0, 0, 0, 0, 0, 0, 0, 0, 0, 0, 0, 0, 12, 'r', 'e', 'm', 'a', 'r', 'k', 's', ' ', 'h', 'e', 'r', 'e', 0, 0, 0, 0, 0, 0, 0, 0, 0, 0, 0, 0, 0, 0, 0, 0, 0, 0, 0, 0, 0, 0, 0, 0, 0, 0, 0, 0, 0, 0, 0, 0, 0, 0, 0, 0, 0, 0, 0, 0, 0, 0, 0, 0, 0, 0, 0, 0, 0, 0, 0, 0, 0, 0, 0, 0, 0, 0, 0, 0, 0, 0, 0, 0, 0, 0, 0, 0, 4, 't', 'e', 's', 't', 4, 't', 'e', 's', 't', 4, ' ', 't', 'r', ' ', 4, ' ', 't', 'r', ' ', 4, 't', 'e', 's', 't', 4, ' ', 't', 'r', ' ', 4, ' ', ' ', ' ', ' ', 4, 't', 'e', 's', 't', 4, 't', 'e', 's', 't', 4, ' ', ' ', ' ', ' ', 4, ' ', ' ', ' ', ' ', 4, ' ', ' ', ' ', ' ', 4, ' ', ' ', ' ', ' ', 4, ' ', ' ', ' ', ' ', 4, ' ', ' ', ' ', ' ', 15, 0, 30, 0, 60, 0, 'Z', 0, 'x', 0, 0, 0, 'x', 0, 'x', 0, 'x', 0, 0, 0, 0, 0, 0, 0, 0, 0, 0, 0, 0, 0, 4, 0, 'h', 16, 2, 0]\n",
    "    2014年4月22日18:03:25 8 backspace  maybe avoid odd bytes                       14 20 DC4 (device control 1)                                                                                                                                              14 shift out                                                                                                                                           12 new page form feed                                                                                                                                                                                                                                                         end of transmission                                                                                                                                                                                                                                                                                                                                so integer = byte2*2**8+byte1    'Z' = 90 'x' =120     NofRec(s/m+15+30+60,90+120) NofData '4' =52, 'h'=104  NofFile:a,b                                         \n",
    "    \"\"\"\n",
    "    def detr(d, tr = 0):\n",
    "        \"\"\" remove all the trailing tr from list d:\"\"\"\n",
    "        while d[-1]== tr:\n",
    "            d.pop()\n",
    "        return d\n",
    "\n",
    "    with open(inf, 'rb') as f:\n",
    "        inf = f.read()\n",
    "    return{'HeatedPattern': inf[0], #'upright'if inf[0]==194 ┬,else 'UpsideDown',# char\n",
    "           'fly':inf[2:22].decode('ascii'), # string[20]; @1: 8 BS backspace\n",
    "           'date':inf[23:63].decode('ascii'), # string[40] @22: 20 DC4 (device control 1) \n",
    "           'DayTime': inf[64:104].decode('ascii'), # string[40] @63: 14 SO shift out \n",
    "           'remarks':inf[105:185].decode('ascii'), # string[80]  ##  @104: 12  FF (NP form feed, new page)\n",
    "           'ExpType':[i.decode('ascii') for i in inf[185:260].split(b'\\x04') if not i.decode('ascii') in ('',' '*4)], # array[1..15] of str4; +75 @185,190,..: each start with 4 EOT (end of transmission)\n",
    "           'duration': detr(b2i(inf[260:290])),#array[1..15] of integer;\n",
    "           'NofRecs':b2i(inf[290:292])[0],#integer\n",
    "           'NofData': b2i(inf[292:294])[0], #integer\n",
    "           'NofFiles': b2i(inf[294:296])[0]} #integer"
   ]
  },
  {
   "cell_type": "code",
   "execution_count": 5,
   "metadata": {
    "collapsed": true
   },
   "outputs": [],
   "source": [
    "l = read_inf(\"0914Y01A.INF\")"
   ]
  },
  {
   "cell_type": "markdown",
   "metadata": {},
   "source": [
    "#### inf文件配置说明\n",
    "\n",
    "- HeatedPattern=194表示正T惩罚，否则表示倒T惩罚\n",
    "- ExpType表示实验序列\n",
    "- duration表示实验序列对应时间\n",
    "- date表示实验日期"
   ]
  },
  {
   "cell_type": "code",
   "execution_count": 6,
   "metadata": {},
   "outputs": [
    {
     "data": {
      "text/plain": [
       "{'DayTime': '9 h 45 m 34 s\\x00\\x00\\x00\\x00\\x00\\x00\\x00\\x00\\x00\\x00\\x00\\x00\\x00\\x00\\x00\\x00\\x00\\x00\\x00\\x00\\x00\\x00\\x00\\x00\\x00\\x00\\x00',\n",
       " 'ExpType': ['test',\n",
       "  'test',\n",
       "  ' tr ',\n",
       "  ' tr ',\n",
       "  'test',\n",
       "  ' tr ',\n",
       "  ' tr ',\n",
       "  'test',\n",
       "  'test'],\n",
       " 'HeatedPattern': 194,\n",
       " 'NofData': 7200,\n",
       " 'NofFiles': 3,\n",
       " 'NofRecs': 6,\n",
       " 'date': 'Thursday 14 September 2017\\x00\\x00\\x00\\x00\\x00\\x00\\x00\\x00\\x00\\x00\\x00\\x00\\x00\\x00',\n",
       " 'duration': [120, 120, 120, 120, 120, 120, 120, 120, 120],\n",
       " 'fly': '\\x00\\x00\\x00\\x00\\x00\\x00\\x00\\x00\\x00\\x00\\x00\\x00\\x00\\x00\\x00\\x00\\x00\\x00\\x00\\x00',\n",
       " 'remarks': '\\x00\\x00\\x00\\x00\\x00\\x00\\x00\\x00\\x00\\x00\\x00\\x00\\x00\\x00\\x00\\x00\\x00\\x00\\x00\\x00\\x00\\x00\\x00\\x00\\x00\\x00\\x00\\x00\\x00\\x00\\x00\\x00\\x00\\x00\\x00\\x00\\x00\\x00\\x00\\x00\\x00\\x00\\x00\\x00\\x00\\x00\\x00\\x00\\x00\\x00\\x00\\x00\\x00\\x00\\x00\\x00\\x00\\x00\\x00\\x00\\x00\\x00\\x00\\x00\\x00\\x00\\x00\\x00\\x00\\x00\\x00\\x00\\x00\\x00\\x00\\x00\\x00\\x00\\x00\\x00'}"
      ]
     },
     "execution_count": 6,
     "metadata": {},
     "output_type": "execute_result"
    }
   ],
   "source": [
    "l"
   ]
  },
  {
   "cell_type": "markdown",
   "metadata": {
    "collapsed": true
   },
   "source": [
    "#### <br>\n",
    "<br>\n",
    "#### 读取DTA文件\n",
    "\n",
    "说明:\n",
    "\n",
    "- 文件分为ABC三个部分，每个部分数据14412\n",
    "- 位置信号分为四个部分(-512,512),(512,1536),(1536,2048),(-2048,512),其中2048和-2048重合\n",
    "\n",
    "<br>\n",
    "数据排列方式如下:\n",
    "\n",
    "|T|P|T|P|T|P|\n",
    "|-|-|-|-|-|-|\n",
    "|0-1201|1202-2401|2402-3603|3604-4803|4804-6005|6006-7205|\n",
    "|T|P|T|P|T|P|\n",
    "|7206-8407|8408-9607|9608-10809|10810-12009|12010-13211|13212-14411|\n",
    "\n"
   ]
  },
  {
   "cell_type": "code",
   "execution_count": 7,
   "metadata": {
    "collapsed": true
   },
   "outputs": [],
   "source": [
    "def read_dta(dta):\n",
    "    \"\"\"read the dta file and return numerical array\"\"\"\n",
    "    with open(dta, 'rb') as f:\n",
    "        data  = f.read()\n",
    "    return b2i(data)"
   ]
  },
  {
   "cell_type": "code",
   "execution_count": 8,
   "metadata": {
    "collapsed": true
   },
   "outputs": [],
   "source": [
    "data = read_dta(\"0914Y01A.DTA\")"
   ]
  },
  {
   "cell_type": "code",
   "execution_count": 9,
   "metadata": {},
   "outputs": [
    {
     "name": "stdout",
     "output_type": "stream",
     "text": [
      "[-1201, -1201, -1187, -1150, -1093, -1046, -1031, -1030, -1030, -1030, -1026, -1002, -998, -998, -1004, -1070, -1122, -1176, -1228, -1244, -1221, -1096, -920, -725, -583, -416, -278, -163, -57, 4, 9, 9, 17, 129, 243, 375, 420, 439, 449, 470, 480, 496, 518, 556, 582, 644, 659, 624, 540, 523, 492, 458, 440, 397, 356, 299, 261, 245, 241, 209, 107, 37, 14, 13, -13, -114, -131, -154, -160, -162, -231, -359, -367, -367, -385, -439, -493, -523, -550, -562, -612, -648, -659, -690, -709, -708, -692, -669, -667, -667, -726, -784, -786, -768, -704, -691, -692, -642, -500, -470]\n"
     ]
    }
   ],
   "source": [
    "print(data[-100:])"
   ]
  },
  {
   "cell_type": "code",
   "execution_count": 10,
   "metadata": {
    "collapsed": true
   },
   "outputs": [],
   "source": [
    "def PI(a, pt = 194): \n",
    "    \"\"\"calculate PI from data list,194 punishment with T\"\"\"\n",
    "    PI_index_Up_1 = 0\n",
    "    PI_index_Down_1 = 0\n",
    "    PI_index_Up_2 = 0\n",
    "    PI_index_Down_2 = 0\n",
    "    PI_index_Up_3 = 0\n",
    "    PI_index_Down_3 = 0\n",
    "    \n",
    "    for i in range(1202,2402):\n",
    "        if (abs(a[i])>=512)&(abs(a[i])<=1536):\n",
    "            PI_index_Up_1+=1\n",
    "        else:\n",
    "            PI_index_Down_1+=1\n",
    "    for i in range(3604,4804):\n",
    "        if (abs(a[i])>=512)&(abs(a[i])<=1536):\n",
    "            PI_index_Up_1+=1\n",
    "        else:\n",
    "            PI_index_Down_1+=1\n",
    "    \n",
    "    for i in range(6006,7206):\n",
    "        if (abs(a[i])>=512)&(abs(a[i])<=1536):\n",
    "            PI_index_Up_2+=1\n",
    "        else:\n",
    "            PI_index_Down_2+=1\n",
    "    for i in range(8408,9608):\n",
    "        if (abs(a[i])>=512)&(abs(a[i])<=1536):\n",
    "            PI_index_Up_2+=1\n",
    "        else:\n",
    "            PI_index_Down_2+=1\n",
    "    \n",
    "    for i in range(10810,12010):\n",
    "        if (abs(a[i])>=512)&(abs(a[i])<=1536):\n",
    "            PI_index_Up_3+=1\n",
    "        else:\n",
    "            PI_index_Down_3+=1\n",
    "    for i in range(13212,14412):\n",
    "        if (abs(a[i])>=512)&(abs(a[i])<=1536):\n",
    "            PI_index_Up_3+=1\n",
    "        else:\n",
    "            PI_index_Down_3+=1\n",
    "    \n",
    "    if pt==194:\n",
    "        PI_1 = (PI_index_Up_1-PI_index_Down_1)/(PI_index_Up_1+PI_index_Down_1)\n",
    "        PI_2 = (PI_index_Up_2-PI_index_Down_2)/(PI_index_Up_2+PI_index_Down_2)\n",
    "        PI_3 = (PI_index_Up_3-PI_index_Down_3)/(PI_index_Up_3+PI_index_Down_3)\n",
    "    else:\n",
    "        PI_1 = -(PI_index_Up_1-PI_index_Down_1)/(PI_index_Up_1+PI_index_Down_1)\n",
    "        PI_2 = -(PI_index_Up_2-PI_index_Down_2)/(PI_index_Up_2+PI_index_Down_2)\n",
    "        PI_3 = -(PI_index_Up_3-PI_index_Down_3)/(PI_index_Up_3+PI_index_Down_3)\n",
    "    return [PI_1,PI_2,PI_3]\n",
    "        "
   ]
  },
  {
   "cell_type": "code",
   "execution_count": 41,
   "metadata": {
    "collapsed": true
   },
   "outputs": [],
   "source": [
    "def getALLPI(fileA,fileB,fileC):\n",
    "    dataA = read_dta(fileA)\n",
    "    dataB = read_dta(fileB)\n",
    "    dataC = read_dta(fileC)\n",
    "    all_PI = []\n",
    "    for i in PI(dataA):\n",
    "        all_PI.append(i)\n",
    "    for i in PI(dataB):\n",
    "        all_PI.append(i)\n",
    "    for i in PI(dataC):\n",
    "        all_PI.append(i)\n",
    "    return all_PI"
   ]
  },
  {
   "cell_type": "code",
   "execution_count": 43,
   "metadata": {},
   "outputs": [
    {
     "name": "stdout",
     "output_type": "stream",
     "text": [
      "[0.5916666666666667, -0.14916666666666667, 0.6816666666666666, 0.35833333333333334, 0.07333333333333333, 0.17166666666666666, 0.15583333333333332, 0.018333333333333333, 0.0575]\n"
     ]
    }
   ],
   "source": [
    "fileA = '0914Y01A.DTA'\n",
    "fileB = '0914Y01B.DTA'\n",
    "fileC = '0914Y01C.DTA'\n",
    "print(getALLPI(fileA,fileB,fileC))"
   ]
  },
  {
   "cell_type": "code",
   "execution_count": 13,
   "metadata": {},
   "outputs": [
    {
     "data": {
      "image/png": "[encoded data removed]",
      "text/plain": [
       "<matplotlib.figure.Figure at 0x1a69d71a6d8>"
      ]
     },
     "metadata": {},
     "output_type": "display_data"
    }
   ],
   "source": [
    "import matplotlib.pyplot as plt\n",
    "name_list = ['test','test','tr','tr','test','tr','tr','test','test']\n",
    "num_list = [0.5916666666666667, -0.14916666666666667, 0.6816666666666666, 0.35833333333333334, 0.07333333333333333, 0.17166666666666666, 0.15583333333333332, 0.018333333333333333, 0.0575]\n",
    "\n",
    "plt.bar(range(len(num_list)), num_list,tick_label=name_list)\n",
    "plt.xlabel(\"Sequence\")\n",
    "plt.ylabel(\"Performance Index\")\n",
    "plt.title(\"PI Figure\")\n",
    "plt.ylim(-0.3,1)\n",
    "#plt.errorbar([i for i in range(9)],num_list,yerr=[0.1,0.1,0.1,0.1,0.1,0.1,0.1,0.1,0.1],fmt=\"*\",color=\"yellow\")\n",
    "plt.show()\n",
    "\n",
    "\n"
   ]
  },
  {
   "cell_type": "markdown",
   "metadata": {},
   "source": [
    "#### 计算PI\n",
    "\n",
    "软件结果:\n",
    "![PIimg](images/PI.jpG)\n",
    "\n",
    "脚本计算结果:\n",
    "```\n",
    "[0.5916666666666667, -0.14916666666666667, 0.6816666666666666, 0.35833333333333334, 0.07333333333333333, 0.17166666666666666, 0.15583333333333332, 0.018333333333333333, 0.0575]\n",
    "```"
   ]
  },
  {
   "cell_type": "markdown",
   "metadata": {},
   "source": [
    "## 多数据统计"
   ]
  },
  {
   "cell_type": "code",
   "execution_count": 14,
   "metadata": {
    "collapsed": true
   },
   "outputs": [],
   "source": [
    "class DataAnalysis:\n",
    "    def __init__(self,dataDir):\n",
    "        self.dataDir = dataDir\n",
    "    "
   ]
  },
  {
   "cell_type": "code",
   "execution_count": 15,
   "metadata": {},
   "outputs": [
    {
     "name": "stdout",
     "output_type": "stream",
     "text": [
      "['f:\\\\data\\\\data\\\\0914Y01A.DTA', 'f:\\\\data\\\\data\\\\0914Y01A.INF', 'f:\\\\data\\\\data\\\\0914Y01B.DTA', 'f:\\\\data\\\\data\\\\0914Y01B.INF', 'f:\\\\data\\\\data\\\\0914Y01C.DTA', 'f:\\\\data\\\\data\\\\0914Y01C.INF', 'f:\\\\data\\\\data\\\\0914Y02A.DTA', 'f:\\\\data\\\\data\\\\0914Y02A.INF', 'f:\\\\data\\\\data\\\\0914Y02B.DTA', 'f:\\\\data\\\\data\\\\0914Y02B.INF', 'f:\\\\data\\\\data\\\\0914Y02C.DTA', 'f:\\\\data\\\\data\\\\0914Y02C.INF']\n"
     ]
    }
   ],
   "source": [
    "import os\n",
    "from os.path import join\n",
    "AllFile = []\n",
    "dest = \"f:\\data\\data\"\n",
    "for root, dirs, files in os.walk( dest ):\n",
    "    for OneFileName in files :\n",
    "        OneFullFileName = join( root, OneFileName )\n",
    "        AllFile.append(OneFullFileName)\n",
    "    print(AllFile)"
   ]
  },
  {
   "cell_type": "code",
   "execution_count": 16,
   "metadata": {},
   "outputs": [
    {
     "name": "stdout",
     "output_type": "stream",
     "text": [
      "f:\\data\\data\\0914Y01A.DTA\n",
      "f:\\data\\data\\0914Y01A.INF\n",
      "f:\\data\\data\\0914Y01B.DTA\n",
      "f:\\data\\data\\0914Y01B.INF\n",
      "f:\\data\\data\\0914Y01C.DTA\n",
      "f:\\data\\data\\0914Y01C.INF\n",
      "f:\\data\\data\\0914Y02A.DTA\n",
      "f:\\data\\data\\0914Y02A.INF\n",
      "f:\\data\\data\\0914Y02B.DTA\n",
      "f:\\data\\data\\0914Y02B.INF\n",
      "f:\\data\\data\\0914Y02C.DTA\n",
      "f:\\data\\data\\0914Y02C.INF\n"
     ]
    }
   ],
   "source": [
    "for i in AllFile:\n",
    "    print(i)"
   ]
  },
  {
   "cell_type": "code",
   "execution_count": 33,
   "metadata": {
    "collapsed": true
   },
   "outputs": [],
   "source": [
    "def getFirtFile(fileName):\n",
    "    firstDataFile = []\n",
    "    for i in fileName:\n",
    "        if(i[-5:]==\"A.DTA\"):\n",
    "            firstDataFile.append(i)\n",
    "    return firstDataFile"
   ]
  },
  {
   "cell_type": "code",
   "execution_count": 34,
   "metadata": {},
   "outputs": [],
   "source": [
    "firstDataFile = getFirtFile(AllFile)"
   ]
  },
  {
   "cell_type": "code",
   "execution_count": 37,
   "metadata": {},
   "outputs": [],
   "source": [
    "def strReplace(s,replacedStr):\n",
    "    tmp=list(s)\n",
    "    tmp[-5]=replacedStr\n",
    "    s=''.join(tmp)\n",
    "    return s"
   ]
  },
  {
   "cell_type": "code",
   "execution_count": 44,
   "metadata": {},
   "outputs": [],
   "source": [
    "PIs = []\n",
    "for detialItem in firstDataFile:\n",
    "    PIs.append(getALLPI(detialItem,strReplace(detialItem,\"B\"),strReplace(detialItem,\"C\")))"
   ]
  },
  {
   "cell_type": "code",
   "execution_count": 46,
   "metadata": {},
   "outputs": [
    {
     "data": {
      "text/plain": [
       "[-0.305,\n",
       " -0.09166666666666666,\n",
       " -0.3466666666666667,\n",
       " -0.4575,\n",
       " 0.1825,\n",
       " -0.2841666666666667,\n",
       " -0.7533333333333333,\n",
       " -0.5108333333333334,\n",
       " -0.23416666666666666]"
      ]
     },
     "execution_count": 46,
     "metadata": {},
     "output_type": "execute_result"
    }
   ],
   "source": [
    "PIs[1]"
   ]
  },
  {
   "cell_type": "code",
   "execution_count": 48,
   "metadata": {},
   "outputs": [
    {
     "data": {
      "text/plain": [
       "[0.5916666666666667,\n",
       " -0.14916666666666667,\n",
       " 0.6816666666666666,\n",
       " 0.35833333333333334,\n",
       " 0.07333333333333333,\n",
       " 0.17166666666666666,\n",
       " 0.15583333333333332,\n",
       " 0.018333333333333333,\n",
       " 0.0575]"
      ]
     },
     "execution_count": 48,
     "metadata": {},
     "output_type": "execute_result"
    }
   ],
   "source": [
    "PIs[0]"
   ]
  },
  {
   "cell_type": "code",
   "execution_count": 63,
   "metadata": {},
   "outputs": [],
   "source": [
    "import numpy as np\n",
    "import pandas as pd\n",
    "def getMeanAndSEM(dataList):\n",
    "    data = {i:dataList[i] for i in range(len(dataList))}\n",
    "    pdData = pd.DataFrame(data)\n",
    "    return pdData"
   ]
  },
  {
   "cell_type": "code",
   "execution_count": null,
   "metadata": {},
   "outputs": [],
   "source": []
  },
  {
   "cell_type": "code",
   "execution_count": 68,
   "metadata": {},
   "outputs": [
    {
     "data": {
      "text/html": [
       "<div>\n",
       "<style>\n",
       "    .dataframe thead tr:only-child th {\n",
       "        text-align: right;\n",
       "    }\n",
       "\n",
       "    .dataframe thead th {\n",
       "        text-align: left;\n",
       "    }\n",
       "\n",
       "    .dataframe tbody tr th {\n",
       "        vertical-align: top;\n",
       "    }\n",
       "</style>\n",
       "<table border=\"1\" class=\"dataframe\">\n",
       "  <thead>\n",
       "    <tr style=\"text-align: right;\">\n",
       "      <th></th>\n",
       "      <th>0</th>\n",
       "      <th>1</th>\n",
       "    </tr>\n",
       "  </thead>\n",
       "  <tbody>\n",
       "    <tr>\n",
       "      <th>0</th>\n",
       "      <td>0.591667</td>\n",
       "      <td>-0.305000</td>\n",
       "    </tr>\n",
       "    <tr>\n",
       "      <th>1</th>\n",
       "      <td>-0.149167</td>\n",
       "      <td>-0.091667</td>\n",
       "    </tr>\n",
       "    <tr>\n",
       "      <th>2</th>\n",
       "      <td>0.681667</td>\n",
       "      <td>-0.346667</td>\n",
       "    </tr>\n",
       "    <tr>\n",
       "      <th>3</th>\n",
       "      <td>0.358333</td>\n",
       "      <td>-0.457500</td>\n",
       "    </tr>\n",
       "    <tr>\n",
       "      <th>4</th>\n",
       "      <td>0.073333</td>\n",
       "      <td>0.182500</td>\n",
       "    </tr>\n",
       "    <tr>\n",
       "      <th>5</th>\n",
       "      <td>0.171667</td>\n",
       "      <td>-0.284167</td>\n",
       "    </tr>\n",
       "    <tr>\n",
       "      <th>6</th>\n",
       "      <td>0.155833</td>\n",
       "      <td>-0.753333</td>\n",
       "    </tr>\n",
       "    <tr>\n",
       "      <th>7</th>\n",
       "      <td>0.018333</td>\n",
       "      <td>-0.510833</td>\n",
       "    </tr>\n",
       "    <tr>\n",
       "      <th>8</th>\n",
       "      <td>0.057500</td>\n",
       "      <td>-0.234167</td>\n",
       "    </tr>\n",
       "  </tbody>\n",
       "</table>\n",
       "</div>"
      ],
      "text/plain": [
       "          0         1\n",
       "0  0.591667 -0.305000\n",
       "1 -0.149167 -0.091667\n",
       "2  0.681667 -0.346667\n",
       "3  0.358333 -0.457500\n",
       "4  0.073333  0.182500\n",
       "5  0.171667 -0.284167\n",
       "6  0.155833 -0.753333\n",
       "7  0.018333 -0.510833\n",
       "8  0.057500 -0.234167"
      ]
     },
     "execution_count": 68,
     "metadata": {},
     "output_type": "execute_result"
    }
   ],
   "source": [
    "data = {i:PIs[i] for i in range(len(PIs))}\n",
    "pdData = pd.DataFrame(data)\n",
    "pdData"
   ]
  },
  {
   "cell_type": "code",
   "execution_count": 72,
   "metadata": {},
   "outputs": [],
   "source": [
    "s = pdData.T.describe()"
   ]
  },
  {
   "cell_type": "code",
   "execution_count": 73,
   "metadata": {},
   "outputs": [
    {
     "data": {
      "text/html": [
       "<div>\n",
       "<style>\n",
       "    .dataframe thead tr:only-child th {\n",
       "        text-align: right;\n",
       "    }\n",
       "\n",
       "    .dataframe thead th {\n",
       "        text-align: left;\n",
       "    }\n",
       "\n",
       "    .dataframe tbody tr th {\n",
       "        vertical-align: top;\n",
       "    }\n",
       "</style>\n",
       "<table border=\"1\" class=\"dataframe\">\n",
       "  <thead>\n",
       "    <tr style=\"text-align: right;\">\n",
       "      <th></th>\n",
       "      <th>0</th>\n",
       "      <th>1</th>\n",
       "      <th>2</th>\n",
       "      <th>3</th>\n",
       "      <th>4</th>\n",
       "      <th>5</th>\n",
       "      <th>6</th>\n",
       "      <th>7</th>\n",
       "      <th>8</th>\n",
       "    </tr>\n",
       "  </thead>\n",
       "  <tbody>\n",
       "    <tr>\n",
       "      <th>count</th>\n",
       "      <td>2.000000</td>\n",
       "      <td>2.000000</td>\n",
       "      <td>2.000000</td>\n",
       "      <td>2.000000</td>\n",
       "      <td>2.000000</td>\n",
       "      <td>2.000000</td>\n",
       "      <td>2.000000</td>\n",
       "      <td>2.000000</td>\n",
       "      <td>2.000000</td>\n",
       "    </tr>\n",
       "    <tr>\n",
       "      <th>mean</th>\n",
       "      <td>0.143333</td>\n",
       "      <td>-0.120417</td>\n",
       "      <td>0.167500</td>\n",
       "      <td>-0.049583</td>\n",
       "      <td>0.127917</td>\n",
       "      <td>-0.056250</td>\n",
       "      <td>-0.298750</td>\n",
       "      <td>-0.246250</td>\n",
       "      <td>-0.088333</td>\n",
       "    </tr>\n",
       "    <tr>\n",
       "      <th>std</th>\n",
       "      <td>0.634039</td>\n",
       "      <td>0.040659</td>\n",
       "      <td>0.727141</td>\n",
       "      <td>0.576881</td>\n",
       "      <td>0.077192</td>\n",
       "      <td>0.322323</td>\n",
       "      <td>0.642878</td>\n",
       "      <td>0.374177</td>\n",
       "      <td>0.206239</td>\n",
       "    </tr>\n",
       "    <tr>\n",
       "      <th>min</th>\n",
       "      <td>-0.305000</td>\n",
       "      <td>-0.149167</td>\n",
       "      <td>-0.346667</td>\n",
       "      <td>-0.457500</td>\n",
       "      <td>0.073333</td>\n",
       "      <td>-0.284167</td>\n",
       "      <td>-0.753333</td>\n",
       "      <td>-0.510833</td>\n",
       "      <td>-0.234167</td>\n",
       "    </tr>\n",
       "    <tr>\n",
       "      <th>25%</th>\n",
       "      <td>-0.080833</td>\n",
       "      <td>-0.134792</td>\n",
       "      <td>-0.089583</td>\n",
       "      <td>-0.253542</td>\n",
       "      <td>0.100625</td>\n",
       "      <td>-0.170208</td>\n",
       "      <td>-0.526042</td>\n",
       "      <td>-0.378542</td>\n",
       "      <td>-0.161250</td>\n",
       "    </tr>\n",
       "    <tr>\n",
       "      <th>50%</th>\n",
       "      <td>0.143333</td>\n",
       "      <td>-0.120417</td>\n",
       "      <td>0.167500</td>\n",
       "      <td>-0.049583</td>\n",
       "      <td>0.127917</td>\n",
       "      <td>-0.056250</td>\n",
       "      <td>-0.298750</td>\n",
       "      <td>-0.246250</td>\n",
       "      <td>-0.088333</td>\n",
       "    </tr>\n",
       "    <tr>\n",
       "      <th>75%</th>\n",
       "      <td>0.367500</td>\n",
       "      <td>-0.106042</td>\n",
       "      <td>0.424583</td>\n",
       "      <td>0.154375</td>\n",
       "      <td>0.155208</td>\n",
       "      <td>0.057708</td>\n",
       "      <td>-0.071458</td>\n",
       "      <td>-0.113958</td>\n",
       "      <td>-0.015417</td>\n",
       "    </tr>\n",
       "    <tr>\n",
       "      <th>max</th>\n",
       "      <td>0.591667</td>\n",
       "      <td>-0.091667</td>\n",
       "      <td>0.681667</td>\n",
       "      <td>0.358333</td>\n",
       "      <td>0.182500</td>\n",
       "      <td>0.171667</td>\n",
       "      <td>0.155833</td>\n",
       "      <td>0.018333</td>\n",
       "      <td>0.057500</td>\n",
       "    </tr>\n",
       "  </tbody>\n",
       "</table>\n",
       "</div>"
      ],
      "text/plain": [
       "              0         1         2         3         4         5         6  \\\n",
       "count  2.000000  2.000000  2.000000  2.000000  2.000000  2.000000  2.000000   \n",
       "mean   0.143333 -0.120417  0.167500 -0.049583  0.127917 -0.056250 -0.298750   \n",
       "std    0.634039  0.040659  0.727141  0.576881  0.077192  0.322323  0.642878   \n",
       "min   -0.305000 -0.149167 -0.346667 -0.457500  0.073333 -0.284167 -0.753333   \n",
       "25%   -0.080833 -0.134792 -0.089583 -0.253542  0.100625 -0.170208 -0.526042   \n",
       "50%    0.143333 -0.120417  0.167500 -0.049583  0.127917 -0.056250 -0.298750   \n",
       "75%    0.367500 -0.106042  0.424583  0.154375  0.155208  0.057708 -0.071458   \n",
       "max    0.591667 -0.091667  0.681667  0.358333  0.182500  0.171667  0.155833   \n",
       "\n",
       "              7         8  \n",
       "count  2.000000  2.000000  \n",
       "mean  -0.246250 -0.088333  \n",
       "std    0.374177  0.206239  \n",
       "min   -0.510833 -0.234167  \n",
       "25%   -0.378542 -0.161250  \n",
       "50%   -0.246250 -0.088333  \n",
       "75%   -0.113958 -0.015417  \n",
       "max    0.018333  0.057500  "
      ]
     },
     "execution_count": 73,
     "metadata": {},
     "output_type": "execute_result"
    }
   ],
   "source": [
    "s"
   ]
  },
  {
   "cell_type": "code",
   "execution_count": 77,
   "metadata": {},
   "outputs": [
    {
     "data": {
      "text/plain": [
       "2.0"
      ]
     },
     "execution_count": 77,
     "metadata": {},
     "output_type": "execute_result"
    }
   ],
   "source": [
    "s.iloc[0,0]"
   ]
  },
  {
   "cell_type": "code",
   "execution_count": 104,
   "metadata": {},
   "outputs": [
    {
     "data": {
      "image/png": "[encoded data removed]",
      "text/plain": [
       "<matplotlib.figure.Figure at 0x1a6a13a8ba8>"
      ]
     },
     "metadata": {},
     "output_type": "display_data"
    }
   ],
   "source": [
    "import matplotlib.pyplot as plt\n",
    "name_list = ['test','test','tr','tr','test','tr','tr','test','test']\n",
    "num_list = s.loc[\"mean\"]\n",
    "yerr = s.loc[\"std\"]/s.iloc[0,0]\n",
    "\n",
    "plt.bar(range(len(num_list)), num_list,tick_label=name_list)\n",
    "plt.xlabel(\"Sequence\")\n",
    "plt.ylabel(\"Performance Index\")\n",
    "plt.title(\"PI Figure\")\n",
    "plt.ylim(-1,1)\n",
    "plt.errorbar([i for i in range(9)],num_list,yerr=yerr,fmt=\"*\",color=\"green\")\n",
    "plt.grid(color=\"grey\",linewidth='0.1')\n",
    "plt.show()\n"
   ]
  },
  {
   "cell_type": "code",
   "execution_count": 105,
   "metadata": {},
   "outputs": [
    {
     "name": "stdout",
     "output_type": "stream",
     "text": [
      "0    0.143333\n",
      "1   -0.120417\n",
      "2    0.167500\n",
      "3   -0.049583\n",
      "4    0.127917\n",
      "5   -0.056250\n",
      "6   -0.298750\n",
      "7   -0.246250\n",
      "8   -0.088333\n",
      "Name: mean, dtype: float64\n",
      "0    0.317020\n",
      "1    0.020329\n",
      "2    0.363571\n",
      "3    0.288441\n",
      "4    0.038596\n",
      "5    0.161161\n",
      "6    0.321439\n",
      "7    0.187089\n",
      "8    0.103120\n",
      "Name: std, dtype: float64\n"
     ]
    }
   ],
   "source": [
    "print(s.loc[\"mean\"])\n",
    "print(s.loc[\"std\"]/s.iloc[0,0])"
   ]
  },
  {
   "cell_type": "code",
   "execution_count": null,
   "metadata": {
    "collapsed": true
   },
   "outputs": [],
   "source": []
  }
 ],
 "metadata": {
  "kernelspec": {
   "display_name": "Python 3",
   "language": "python",
   "name": "python3"
  },
  "language_info": {
   "codemirror_mode": {
    "name": "ipython",
    "version": 3
   },
   "file_extension": ".py",
   "mimetype": "text/x-python",
   "name": "python",
   "nbconvert_exporter": "python",
   "pygments_lexer": "ipython3",
   "version": "3.6.1"
  }
 },
 "nbformat": 4,
 "nbformat_minor": 2
}
